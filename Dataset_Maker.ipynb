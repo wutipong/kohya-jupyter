{
 "cells": [
  {
   "attachments": {},
   "cell_type": "markdown",
   "metadata": {
    "id": "rmCPmqFL6hCQ"
   },
   "source": [
    "# 📊 Dataset Maker by Hollowstrawberry\n",
    "\n",
    "This is based on the work of [Kohya-ss](https://github.com/kohya-ss/sd-scripts) and [Linaqruf](https://colab.research.google.com/github/Linaqruf/kohya-trainer/blob/main/kohya-LoRA-dreambooth.ipynb). Thank you!"
   ]
  },
  {
   "attachments": {},
   "cell_type": "markdown",
   "metadata": {},
   "source": [
    "### ⭕ Disclaimer\n",
    "The purpose of this document is to research bleeding-edge technologies in the field of machine learning inference.  \n",
    "Please read and follow the [Google Colab guidelines](https://research.google.com/colaboratory/faq.html) and its [Terms of Service](https://research.google.com/colaboratory/tos_v3.html)."
   ]
  },
  {
   "attachments": {},
   "cell_type": "markdown",
   "metadata": {
    "id": "-rdgF2AWLS2h"
   },
   "source": [
    "| |GitHub|🇬🇧 English|🇪🇸 Spanish|\n",
    "|:--|:-:|:-:|:-:|\n",
    "| 🏠 **Homepage** | [![GitHub](https://raw.githubusercontent.com/hollowstrawberry/kohya-colab/main/assets/github.svg)](https://github.com/hollowstrawberry/kohya-colab) | | |\n",
    "| 📊 **Dataset Maker** | [![GitHub](https://raw.githubusercontent.com/hollowstrawberry/kohya-colab/main/assets/github.svg)](https://github.com/hollowstrawberry/kohya-colab/blob/main/Dataset_Maker.ipynb) | [![Open in Colab](https://raw.githubusercontent.com/hollowstrawberry/kohya-colab/main/assets/colab-badge.svg)](https://colab.research.google.com/github/hollowstrawberry/kohya-colab/blob/main/Dataset_Maker.ipynb) | [![Abrir en Colab](https://raw.githubusercontent.com/hollowstrawberry/kohya-colab/main/assets/colab-badge-spanish.svg)](https://colab.research.google.com/github/hollowstrawberry/kohya-colab/blob/main/Spanish_Dataset_Maker.ipynb) |\n",
    "| ⭐ **Lora Trainer** | [![GitHub](https://raw.githubusercontent.com/hollowstrawberry/kohya-colab/main/assets/github.svg)](https://github.com/hollowstrawberry/kohya-colab/blob/main/Lora_Trainer.ipynb) | [![Open in Colab](https://raw.githubusercontent.com/hollowstrawberry/kohya-colab/main/assets/colab-badge.svg)](https://colab.research.google.com/github/hollowstrawberry/kohya-colab/blob/main/Lora_Trainer.ipynb) | [![Abrir en Colab](https://raw.githubusercontent.com/hollowstrawberry/kohya-colab/main/assets/colab-badge-spanish.svg)](https://colab.research.google.com/github/hollowstrawberry/kohya-colab/blob/main/Spanish_Lora_Trainer.ipynb) |\n",
    "| 🌟 **XL Lora Trainer** | [![GitHub](https://raw.githubusercontent.com/hollowstrawberry/kohya-colab/main/assets/github.svg)](https://github.com/hollowstrawberry/kohya-colab/blob/main/Lora_Trainer_XL.ipynb) | [![Open in Colab](https://raw.githubusercontent.com/hollowstrawberry/kohya-colab/main/assets/colab-badge.svg)](https://colab.research.google.com/github/hollowstrawberry/kohya-colab/blob/main/Lora_Trainer_XL.ipynb) |  |"
   ]
  },
  {
   "cell_type": "code",
   "execution_count": 1,
   "metadata": {
    "cellView": "form",
    "id": "cBa7KdewQ4BU"
   },
   "outputs": [
    {
     "name": "stdout",
     "output_type": "stream",
     "text": [
      "Requirement already satisfied: ipywidgets in /opt/conda/lib/python3.11/site-packages (8.1.2)\n",
      "Requirement already satisfied: comm>=0.1.3 in /opt/conda/lib/python3.11/site-packages (from ipywidgets) (0.2.2)\n",
      "Requirement already satisfied: ipython>=6.1.0 in /opt/conda/lib/python3.11/site-packages (from ipywidgets) (8.22.2)\n",
      "Requirement already satisfied: traitlets>=4.3.1 in /opt/conda/lib/python3.11/site-packages (from ipywidgets) (5.14.2)\n",
      "Requirement already satisfied: widgetsnbextension~=4.0.10 in /opt/conda/lib/python3.11/site-packages (from ipywidgets) (4.0.10)\n",
      "Requirement already satisfied: jupyterlab-widgets~=3.0.10 in /opt/conda/lib/python3.11/site-packages (from ipywidgets) (3.0.10)\n",
      "Requirement already satisfied: decorator in /opt/conda/lib/python3.11/site-packages (from ipython>=6.1.0->ipywidgets) (5.1.1)\n",
      "Requirement already satisfied: jedi>=0.16 in /opt/conda/lib/python3.11/site-packages (from ipython>=6.1.0->ipywidgets) (0.19.1)\n",
      "Requirement already satisfied: matplotlib-inline in /opt/conda/lib/python3.11/site-packages (from ipython>=6.1.0->ipywidgets) (0.1.7)\n",
      "Requirement already satisfied: prompt-toolkit<3.1.0,>=3.0.41 in /opt/conda/lib/python3.11/site-packages (from ipython>=6.1.0->ipywidgets) (3.0.42)\n",
      "Requirement already satisfied: pygments>=2.4.0 in /opt/conda/lib/python3.11/site-packages (from ipython>=6.1.0->ipywidgets) (2.17.2)\n",
      "Requirement already satisfied: stack-data in /opt/conda/lib/python3.11/site-packages (from ipython>=6.1.0->ipywidgets) (0.6.2)\n",
      "Requirement already satisfied: pexpect>4.3 in /opt/conda/lib/python3.11/site-packages (from ipython>=6.1.0->ipywidgets) (4.9.0)\n",
      "Requirement already satisfied: parso<0.9.0,>=0.8.3 in /opt/conda/lib/python3.11/site-packages (from jedi>=0.16->ipython>=6.1.0->ipywidgets) (0.8.4)\n",
      "Requirement already satisfied: ptyprocess>=0.5 in /opt/conda/lib/python3.11/site-packages (from pexpect>4.3->ipython>=6.1.0->ipywidgets) (0.7.0)\n",
      "Requirement already satisfied: wcwidth in /opt/conda/lib/python3.11/site-packages (from prompt-toolkit<3.1.0,>=3.0.41->ipython>=6.1.0->ipywidgets) (0.2.13)\n",
      "Requirement already satisfied: executing>=1.2.0 in /opt/conda/lib/python3.11/site-packages (from stack-data->ipython>=6.1.0->ipywidgets) (2.0.1)\n",
      "Requirement already satisfied: asttokens>=2.1.0 in /opt/conda/lib/python3.11/site-packages (from stack-data->ipython>=6.1.0->ipywidgets) (2.4.1)\n",
      "Requirement already satisfied: pure-eval in /opt/conda/lib/python3.11/site-packages (from stack-data->ipython>=6.1.0->ipywidgets) (0.2.2)\n",
      "Requirement already satisfied: six>=1.12.0 in /opt/conda/lib/python3.11/site-packages (from asttokens>=2.1.0->stack-data->ipython>=6.1.0->ipywidgets) (1.16.0)\n",
      "Note: you may need to restart the kernel to use updated packages.\n"
     ]
    },
    {
     "data": {
      "application/vnd.jupyter.widget-view+json": {
       "model_id": "4ac63c9c37c24c629e251c5d5486a235",
       "version_major": 2,
       "version_minor": 0
      },
      "text/plain": [
       "HTML(value='<h2>🚩 Start Here</h2>')"
      ]
     },
     "metadata": {},
     "output_type": "display_data"
    },
    {
     "data": {
      "application/vnd.jupyter.widget-view+json": {
       "model_id": "972625bc759443cc8ab18cc4cf1dcbc0",
       "version_major": 2,
       "version_minor": 0
      },
      "text/plain": [
       "HTML(value='<h2>1️⃣ Setup</h2>')"
      ]
     },
     "metadata": {},
     "output_type": "display_data"
    },
    {
     "data": {
      "application/vnd.jupyter.widget-view+json": {
       "model_id": "026798dc1fd24d0aa8c22f2f4472dfda",
       "version_major": 2,
       "version_minor": 0
      },
      "text/plain": [
       "Label(value='This cell will load some requirements and create the necessary folders in your Google Drive.')"
      ]
     },
     "metadata": {},
     "output_type": "display_data"
    },
    {
     "data": {
      "application/vnd.jupyter.widget-view+json": {
       "model_id": "3a08a80ba3a54a5faba6daf97086e846",
       "version_major": 2,
       "version_minor": 0
      },
      "text/plain": [
       "Label(value=\"Your project name can't contain spaces but it can contain a single / to make a subfolder in your …"
      ]
     },
     "metadata": {},
     "output_type": "display_data"
    },
    {
     "data": {
      "application/vnd.jupyter.widget-view+json": {
       "model_id": "a972969acf7f410bab5520f457ebcee8",
       "version_major": 2,
       "version_minor": 0
      },
      "text/plain": [
       "Text(value='', description='Project name:')"
      ]
     },
     "metadata": {},
     "output_type": "display_data"
    },
    {
     "data": {
      "application/vnd.jupyter.widget-view+json": {
       "model_id": "3ddea131fea54f2e9cd8637846c99ec4",
       "version_major": 2,
       "version_minor": 0
      },
      "text/plain": [
       "Label(value=\"The folder structure doesn't matter and is purely for comfort. Make sure to always pick the same …"
      ]
     },
     "metadata": {},
     "output_type": "display_data"
    },
    {
     "data": {
      "application/vnd.jupyter.widget-view+json": {
       "model_id": "a5c98a8db5cb4652977b88dc6c9a58e2",
       "version_major": 2,
       "version_minor": 0
      },
      "text/plain": [
       "Dropdown(description='Folder structure:', index=1, options=('Organize by category (MyDrive/lora_training/datas…"
      ]
     },
     "metadata": {},
     "output_type": "display_data"
    },
    {
     "data": {
      "application/vnd.jupyter.widget-view+json": {
       "model_id": "b42119f0416049f9bb0d0c4bd84b02b7",
       "version_major": 2,
       "version_minor": 0
      },
      "text/plain": [
       "Button(description='Proceed', icon='check', style=ButtonStyle(), tooltip='Proceed')"
      ]
     },
     "metadata": {},
     "output_type": "display_data"
    }
   ],
   "source": [
    "%pip install ipywidgets\n",
    "\n",
    "import os\n",
    "from IPython import get_ipython\n",
    "from IPython.display import display, Markdown\n",
    "import ipywidgets as widgets\n",
    "import pathlib\n",
    "\n",
    "COLAB = False\n",
    "\n",
    "if COLAB:\n",
    "    from google.colab.output import clear as clear_output\n",
    "else:\n",
    "    from IPython.display import clear_output\n",
    "\n",
    "display(\n",
    "    widgets.HTML(\"<h2>🚩 Start Here</h2>\"),\n",
    ")\n",
    "\n",
    "project_name_widget = widgets.Text(description='Project name:')\n",
    "folder_structure_widget = widgets.Dropdown(\n",
    "    options=[\n",
    "        \"Organize by category (MyDrive/lora_training/datasets/project_name)\",\n",
    "        \"Organize by project (MyDrive/Loras/project_name/dataset)\"\n",
    "    ],\n",
    "    value=\"Organize by project (MyDrive/Loras/project_name/dataset)\",\n",
    "    description='Folder structure:',\n",
    "    disabled=False,\n",
    ")\n",
    "\n",
    "def proceed_step_1(b):\n",
    "    global project_name\n",
    "    project_name = project_name_widget.value\n",
    "    project_name = project_name.strip()\n",
    "\n",
    "    global folder_structure\n",
    "    folder_structure = folder_structure_widget.value\n",
    "\n",
    "    global project_base\n",
    "    global project_subfolder\n",
    "    global root_dir\n",
    "    global deps_dir\n",
    "    global main_dir\n",
    "    global config_folder\n",
    "    global images_folder\n",
    "    global step1_installed_flag\n",
    "\n",
    "    if not project_name or any(c in project_name for c in \" .()\\\"'\\\\\") or project_name.count(\"/\") > 1:\n",
    "        print(\"Please write a valid project_name.\")\n",
    "    else:\n",
    "        if COLAB and not os.path.exists('/content/drive'):\n",
    "            from google.colab import drive\n",
    "            print(\"📂 Connecting to Google Drive...\")\n",
    "            drive.mount('/content/drive')\n",
    "\n",
    "        project_base = project_name if \"/\" not in project_name else project_name[:project_name.rfind(\n",
    "            \"/\")]\n",
    "        project_subfolder = project_name if \"/\" not in project_name else project_name[project_name.rfind(\n",
    "            \"/\")+1:]\n",
    "\n",
    "        root_dir = \"/content\" if COLAB else pathlib.Path.home() / \"Loras\"\n",
    "        deps_dir = os.path.join(root_dir, \"deps\")\n",
    "\n",
    "        if \"/Loras\" in folder_structure:\n",
    "            main_dir = os.path.join(\n",
    "                root_dir, \"drive/MyDrive/Loras\") if COLAB else root_dir\n",
    "            config_folder = os.path.join(main_dir, project_base)\n",
    "            images_folder = os.path.join(main_dir, project_base, \"dataset\")\n",
    "            if \"/\" in project_name:\n",
    "                images_folder = os.path.join(images_folder, project_subfolder)\n",
    "        else:\n",
    "            main_dir = os.path.join(\n",
    "                root_dir, \"drive/MyDrive/lora_training\") if COLAB else root_dir\n",
    "            config_folder = os.path.join(main_dir, \"config\", project_name)\n",
    "            images_folder = os.path.join(main_dir, \"datasets\", project_name)\n",
    "\n",
    "        for dir in [main_dir, deps_dir, images_folder, config_folder]:\n",
    "            os.makedirs(dir, exist_ok=True)\n",
    "\n",
    "        print(f\"✅ Project {project_name} is ready!\")\n",
    "        step1_installed_flag = True\n",
    "\n",
    "\n",
    "proceed1_btn = widgets.Button(\n",
    "    description='Proceed',\n",
    "    disabled=False,\n",
    "    button_style='',  # 'success', 'info', 'warning', 'danger' or ''\n",
    "    tooltip='Proceed',\n",
    "    icon='check'  # (FontAwesome names without the `fa-` prefix)\n",
    ")\n",
    "proceed1_btn.on_click(proceed_step_1)\n",
    "\n",
    "display(\n",
    "    widgets.HTML(\"<h2>1️⃣ Setup</h2>\"),\n",
    "    widgets.Label(\n",
    "        \"This cell will load some requirements and create the necessary folders in your Google Drive.\"),\n",
    "    widgets.Label(\n",
    "        \"Your project name can't contain spaces but it can contain a single / to make a subfolder in your dataset.\"),\n",
    "    project_name_widget,\n",
    "    widgets.Label(\n",
    "        \"The folder structure doesn't matter and is purely for comfort. Make sure to always pick the same one. I like organizing by project.\"),\n",
    "    folder_structure_widget,\n",
    "    proceed1_btn,\n",
    ")"
   ]
  },
  {
   "cell_type": "code",
   "execution_count": 3,
   "metadata": {
    "cellView": "form",
    "id": "afu5dCKTV31E"
   },
   "outputs": [
    {
     "data": {
      "application/vnd.jupyter.widget-view+json": {
       "model_id": "369638bc85e144059c8009a5b2cbb666",
       "version_major": 2,
       "version_minor": 0
      },
      "text/plain": [
       "HTML(value=\"\\n    <h2>2️⃣ Scrape images from Gelbooru</h2>\\n    <p>We will grab images from the popular anime …"
      ]
     },
     "metadata": {},
     "output_type": "display_data"
    },
    {
     "data": {
      "application/vnd.jupyter.widget-view+json": {
       "model_id": "2a02cf5598c94056bdd33b07da4cab1f",
       "version_major": 2,
       "version_minor": 0
      },
      "text/plain": [
       "Label(value='Separate words with underscores, separate tags with spaces, and use - to exclude a tag. You can a…"
      ]
     },
     "metadata": {},
     "output_type": "display_data"
    },
    {
     "data": {
      "application/vnd.jupyter.widget-view+json": {
       "model_id": "a888501cd61e47a0a2d8de0580020e57",
       "version_major": 2,
       "version_minor": 0
      },
      "text/plain": [
       "Text(value='', description='tags')"
      ]
     },
     "metadata": {},
     "output_type": "display_data"
    },
    {
     "data": {
      "application/vnd.jupyter.widget-view+json": {
       "model_id": "d08006731f9548369929038d488ae84b",
       "version_major": 2,
       "version_minor": 0
      },
      "text/plain": [
       "Label(value='If an image is bigger than this resolution a smaller version will be downloaded instead.')"
      ]
     },
     "metadata": {},
     "output_type": "display_data"
    },
    {
     "data": {
      "application/vnd.jupyter.widget-view+json": {
       "model_id": "bac776a045ab4185aac97b5349838269",
       "version_major": 2,
       "version_minor": 0
      },
      "text/plain": [
       "BoundedIntText(value=3072, description='Max resolution:', max=8196, min=1024, step=1024)"
      ]
     },
     "metadata": {},
     "output_type": "display_data"
    },
    {
     "data": {
      "application/vnd.jupyter.widget-view+json": {
       "model_id": "5625b491cab949a5a1876b0921fe8dd7",
       "version_major": 2,
       "version_minor": 0
      },
      "text/plain": [
       "Button(description='Proceed', icon='check', style=ButtonStyle(), tooltip='Proceed')"
      ]
     },
     "metadata": {},
     "output_type": "display_data"
    },
    {
     "name": "stdout",
     "output_type": "stream",
     "text": [
      "🏭 Installing dependencies...\n",
      "\n",
      "❌ Error installing dependencies, attempting to continue anyway...\n",
      "🎯 Found 15338 results\n"
     ]
    },
    {
     "data": {
      "text/markdown": [
       "[Click here to open in browser!](https://gelbooru.com/index.php?page=post&s=list&tags=spy_x_family)"
      ],
      "text/plain": [
       "<IPython.core.display.Markdown object>"
      ]
     },
     "metadata": {},
     "output_type": "display_data"
    },
    {
     "data": {
      "application/vnd.jupyter.widget-view+json": {
       "model_id": "105a4f77a82648768927390c6b94699c",
       "version_major": 2,
       "version_minor": 0
      },
      "text/plain": [
       "Label(value='🔽 Will download to C:\\\\Users\\\\mr_ta\\\\Loras\\\\spy_x_family\\\\dataset (A confirmation box should appe…"
      ]
     },
     "metadata": {},
     "output_type": "display_data"
    },
    {
     "data": {
      "application/vnd.jupyter.widget-view+json": {
       "model_id": "943e314c944b41dca7bbed2885d52c70",
       "version_major": 2,
       "version_minor": 0
      },
      "text/plain": [
       "Label(value=\"❓ Enter the word 'yes' if you want to proceed with the download: \")"
      ]
     },
     "metadata": {},
     "output_type": "display_data"
    },
    {
     "data": {
      "application/vnd.jupyter.widget-view+json": {
       "model_id": "c1112abbcaf649cb81e1fc48341ecab3",
       "version_major": 2,
       "version_minor": 0
      },
      "text/plain": [
       "Button(description='Yes', icon='check', style=ButtonStyle(), tooltip='Yes')"
      ]
     },
     "metadata": {},
     "output_type": "display_data"
    },
    {
     "data": {
      "application/vnd.jupyter.widget-view+json": {
       "model_id": "c748f0f93e014a7cb8969fc16e2809bf",
       "version_major": 2,
       "version_minor": 0
      },
      "text/plain": [
       "Button(description='No', icon='check', style=ButtonStyle(), tooltip='No')"
      ]
     },
     "metadata": {},
     "output_type": "display_data"
    },
    {
     "name": "stdout",
     "output_type": "stream",
     "text": [
      "📩 Grabbing image list...\n",
      "🌐 Saved links to C:\\Users\\mr_ta\\Loras\\spy_x_family\\scrape_spy_x_family.txt\n",
      "\n",
      "🔁 Downloading images...\n",
      "\n",
      "\n",
      "✅ Downloaded 1068 images.\n"
     ]
    }
   ],
   "source": [
    "if \"step1_installed_flag\" not in globals():\n",
    "  raise Exception(\"Please run step 1 first!\")\n",
    "  \n",
    "import json\n",
    "import time\n",
    "from urllib.request import urlopen, Request\n",
    "\n",
    "display(widgets.HTML('''\n",
    "    <h2>2️⃣ Scrape images from Gelbooru</h2>\n",
    "    <p>We will grab images from the popular anime gallery <a href='https://gelbooru.com/'>Gelbooru</a>. Images are sorted by tags, including poses, scenes, character traits, character names, artists, etc.</p>\n",
    "    <ul>\n",
    "        <li>If you instead want to use your own images, upload them to your Google Drive's `Loras/project_name/dataset` folder.</li>\n",
    "        <li>If you instead want to download screencaps of anime episodes, try <a href='https://colab.research.google.com/drive/1oBSntB40BKzNmKceXUlkXzujzdQw-Ci7'>this other colab by another person</a>. It's more complicated though.</li>\n",
    "    </ul>\n",
    "    <p>Up to 1000 images may be downloaded by this step in just one minute. Don't abuse it.</p>\n",
    "    <p>Your target tags should include the relevant tags for your character/concept/artstyle, and exclude undesired tags (for example, explicit images may affect learning).</p>\n",
    "'''))\n",
    "\n",
    "tags_widget = widgets.Text(description=\"tags\")\n",
    "max_resolution_widget = widgets.BoundedIntText(\n",
    "    value=3072,\n",
    "    min=1024,\n",
    "    max=8196,\n",
    "    step=1024,\n",
    "    description='Max resolution:',\n",
    "    disabled=False\n",
    ")\n",
    "\n",
    "include_posts_with_parent_widget = widgets.Checkbox(\n",
    "    value=True,\n",
    "    description='Include posts with parent:',\n",
    "    disabled=False,\n",
    "    indent=False\n",
    ")\n",
    "\n",
    "def proceed_step_2(b):\n",
    "    global tags\n",
    "    tags = tags_widget.value\n",
    "    global max_resolution\n",
    "    max_resolution = 3072\n",
    "\n",
    "    global include_posts_with_parent\n",
    "    include_posts_with_parent = include_posts_with_parent_widget.value\n",
    "\n",
    "    global step2_installed_flag\n",
    "\n",
    "    tags = tags.replace(\" \", \"+\")\\\n",
    "            .replace(\"(\", \"%28\")\\\n",
    "            .replace(\")\", \"%29\")\\\n",
    "            .replace(\":\", \"%3a\")\\\n",
    "            .replace(\"&\", \"%26\")\\\n",
    "          \n",
    "    url = \"https://gelbooru.com/index.php?page=dapi&json=1&s=post&q=index&limit=100&tags={}\".format(tags)\n",
    "    user_agent = \"Mozilla/5.0 AppleWebKit/537.36 (KHTML, like Gecko; compatible; Googlebot/2.1; +http://www.google.com/bot.html) Chrome/93.0.4577.83 Safari/537.36\"\n",
    "    limit = 100 # hardcoded by gelbooru\n",
    "    total_limit = 1000 # you can edit this if you want but I wouldn't recommend it\n",
    "    supported_types = (\".png\", \".jpg\", \".jpeg\")\n",
    "\n",
    "    def ubuntu_deps():\n",
    "        print(\"🏭 Installing dependencies...\\n\")\n",
    "        !apt -y install aria2\n",
    "        return not get_ipython().__dict__['user_ns']['_exit_code']\n",
    "\n",
    "    if \"step2_installed_flag\" not in globals():\n",
    "        if ubuntu_deps():\n",
    "            clear_output()\n",
    "            step2_installed_flag = True\n",
    "        else:\n",
    "            print(\"❌ Error installing dependencies, attempting to continue anyway...\")\n",
    "\n",
    "    def get_json(url):\n",
    "        with urlopen(Request(url, headers={\"User-Agent\": user_agent})) as page:\n",
    "            return json.load(page)\n",
    "\n",
    "    def filter_images(data):\n",
    "        return [p[\"file_url\"] if p[\"width\"]*p[\"height\"] <= max_resolution**2 else p[\"sample_url\"]\n",
    "                for p in data[\"post\"]\n",
    "                if (p[\"parent_id\"] == 0 or include_posts_with_parent)\n",
    "                and p[\"file_url\"].lower().endswith(supported_types)]\n",
    "    \n",
    "    global count\n",
    "\n",
    "    def download_images():\n",
    "        data = get_json(url)\n",
    "        count = data[\"@attributes\"][\"count\"]\n",
    "\n",
    "        if count == 0:\n",
    "            print(\"📷 No results found\")\n",
    "            return\n",
    "\n",
    "        print(f\"🎯 Found {count} results\")\n",
    "        test_url = \"https://gelbooru.com/index.php?page=post&s=list&tags={}\".format(tags)\n",
    "        display(Markdown(f\"[Click here to open in browser!]({test_url})\"))\n",
    "\n",
    "        perform_download_btn = widgets.Button(\n",
    "            description='Yes',\n",
    "            disabled=False,\n",
    "            button_style='',  # 'success', 'info', 'warning', 'danger' or ''\n",
    "            tooltip='Yes',\n",
    "            icon='check'  # (FontAwesome names without the `fa-` prefix)\n",
    "        )\n",
    "\n",
    "        cancel_dowload_btn = widgets.Button(\n",
    "            description='No',\n",
    "            disabled=False,\n",
    "            button_style='',  # 'success', 'info', 'warning', 'danger' or ''\n",
    "            tooltip='No',\n",
    "            icon='check'  # (FontAwesome names without the `fa-` prefix)\n",
    "        )\n",
    "\n",
    "        def perform_download(b): \n",
    "            print(\"📩 Grabbing image list...\")\n",
    "\n",
    "            data = get_json(url)\n",
    "            count = data[\"@attributes\"][\"count\"]\n",
    "\n",
    "            image_urls = set()\n",
    "            image_urls = image_urls.union(filter_images(data))\n",
    "            for i in range(total_limit // limit):\n",
    "                count -= limit\n",
    "                if count <= 0:\n",
    "                    break\n",
    "                time.sleep(0.1)\n",
    "                image_urls = image_urls.union(filter_images(get_json(url+f\"&pid={i+1}\")))\n",
    "\n",
    "            scrape_file = os.path.join(config_folder, f\"scrape_{project_subfolder}.txt\")\n",
    "            with open(scrape_file, \"w\") as f:\n",
    "                f.write(\"\\n\".join(image_urls))\n",
    "\n",
    "            print(f\"🌐 Saved links to {scrape_file}\\n\\n🔁 Downloading images...\\n\")\n",
    "            old_img_count = len([f for f in os.listdir(images_folder) if f.lower().endswith(supported_types)])\n",
    "\n",
    "            os.chdir(images_folder)\n",
    "            !aria2c --console-log-level=warn -c -x 16 -k \"1M\" -s 16 -i {scrape_file}\n",
    "\n",
    "            new_img_count = len([f for f in os.listdir(images_folder) if f.lower().endswith(supported_types)])\n",
    "            print(f\"\\n✅ Downloaded {new_img_count - old_img_count} images.\")\n",
    "\n",
    "        perform_download_btn.on_click(perform_download)\n",
    "        cancel_dowload_btn.on_click(lambda: display(widgets.Markdown(\"❌ Download cancelled\")))\n",
    "\n",
    "        display(\n",
    "            widgets.Label (f\"🔽 Will download to {images_folder.replace('/content/drive/', '')} (A confirmation box should appear below, otherwise run this cell again)\"),\n",
    "            widgets.Label(\"❓ Enter the word 'yes' if you want to proceed with the download: \"),\n",
    "            perform_download_btn, \n",
    "            cancel_dowload_btn\n",
    "        )\n",
    "\n",
    "    download_images()\n",
    "\n",
    "proceed2_btn = widgets.Button(\n",
    "    description='Proceed',\n",
    "    disabled=False,\n",
    "    button_style='',  # 'success', 'info', 'warning', 'danger' or ''\n",
    "    tooltip='Proceed',\n",
    "    icon='check'  # (FontAwesome names without the `fa-` prefix)\n",
    ")\n",
    "proceed2_btn.on_click(proceed_step_2)\n",
    "\n",
    "display(\n",
    "    widgets.Label('''Separate words with underscores, separate tags with spaces, and use - to exclude a tag. You can also include a minimum score: `score:>10`'''),\n",
    "    tags_widget,\n",
    "    widgets.Label('If an image is bigger than this resolution a smaller version will be downloaded instead.'),\n",
    "    max_resolution_widget,\n",
    "    proceed2_btn\n",
    ")"
   ]
  },
  {
   "cell_type": "code",
   "execution_count": 2,
   "metadata": {
    "cellView": "form",
    "id": "b218DEEMpwzB"
   },
   "outputs": [
    {
     "data": {
      "application/vnd.jupyter.widget-view+json": {
       "model_id": "98ec7b4690194adf9934040176b5f252",
       "version_major": 2,
       "version_minor": 0
      },
      "text/plain": [
       "HTML(value='<h2>3️⃣ Curate your images</h2>')"
      ]
     },
     "metadata": {},
     "output_type": "display_data"
    },
    {
     "data": {
      "application/vnd.jupyter.widget-view+json": {
       "model_id": "7152607c218a42b38e4d0b4f44b1ba75",
       "version_major": 2,
       "version_minor": 0
      },
      "text/plain": [
       "Label(value='We will find duplicate images with the FiftyOne AI, and mark them with `delete`.')"
      ]
     },
     "metadata": {},
     "output_type": "display_data"
    },
    {
     "data": {
      "application/vnd.jupyter.widget-view+json": {
       "model_id": "c80233c890ac4f39b0c40bcc2d611fc6",
       "version_major": 2,
       "version_minor": 0
      },
      "text/plain": [
       "Label(value=\"Then, an interactive area will appear below this cell that lets you visualize all your images and…"
      ]
     },
     "metadata": {},
     "output_type": "display_data"
    },
    {
     "data": {
      "application/vnd.jupyter.widget-view+json": {
       "model_id": "003242ccaf124186869d876283645305",
       "version_major": 2,
       "version_minor": 0
      },
      "text/plain": [
       "Label(value='If the interactive area appears blank for over a minute, try enabling cookies and removing tracki…"
      ]
     },
     "metadata": {},
     "output_type": "display_data"
    },
    {
     "data": {
      "application/vnd.jupyter.widget-view+json": {
       "model_id": "ac7df922e7514a2db86068f2978452f6",
       "version_major": 2,
       "version_minor": 0
      },
      "text/plain": [
       "Label(value='Regardless, you can save your changes by sending Enter in the input box above the interactive are…"
      ]
     },
     "metadata": {},
     "output_type": "display_data"
    },
    {
     "data": {
      "application/vnd.jupyter.widget-view+json": {
       "model_id": "1d628c080e1e4abeb3ac7af8d4a8475e",
       "version_major": 2,
       "version_minor": 0
      },
      "text/plain": [
       "Label(value='This is how similar 2 images must be to be marked for deletion. I recommend 0.97 to 0.99:')"
      ]
     },
     "metadata": {},
     "output_type": "display_data"
    },
    {
     "data": {
      "application/vnd.jupyter.widget-view+json": {
       "model_id": "0a7a42a6064b402fa0817225466ecd8e",
       "version_major": 2,
       "version_minor": 0
      },
      "text/plain": [
       "FloatText(value=0.0003, description='Similarity threshold:')"
      ]
     },
     "metadata": {},
     "output_type": "display_data"
    },
    {
     "data": {
      "application/vnd.jupyter.widget-view+json": {
       "model_id": "78834dbe1db04ec5a27d3340b88165ed",
       "version_major": 2,
       "version_minor": 0
      },
      "text/plain": [
       "Button(description='Proceed', icon='check', style=ButtonStyle(), tooltip='Proceed')"
      ]
     },
     "metadata": {},
     "output_type": "display_data"
    },
    {
     "name": "stdout",
     "output_type": "stream",
     "text": [
      "🏭 Installing dependencies...\n",
      "\n",
      "Note: you may need to restart the kernel to use updated packages.\n"
     ]
    },
    {
     "name": "stderr",
     "output_type": "stream",
     "text": [
      "ERROR: Could not find a version that satisfies the requirement fiftyone-db-ubuntu2204 (from versions: none)\n",
      "ERROR: No matching distribution found for fiftyone-db-ubuntu2204\n"
     ]
    },
    {
     "name": "stdout",
     "output_type": "stream",
     "text": [
      "Note: you may need to restart the kernel to use updated packages.\n",
      "❌ Error installing dependencies, attempting to continue anyway...\n",
      "\n",
      "💿 Analyzing dataset...\n",
      "\n",
      "Migrating database to v0.24.1\n",
      " 100% |███████████████| 1068/1068 [333.1ms elapsed, 0s remaining, 3.2K samples/s]      \n",
      "Downloading model from 'https://openaipublic.azureedge.net/clip/models/40d365715913c9da98579312b702a82c18be219cc2a73407c4526f58eba950af/ViT-B-32.pt'...\n",
      " 100% |██████|    2.6Gb/2.6Gb [42.8s elapsed, 0s remaining, 104.0Mb/s]      \n"
     ]
    },
    {
     "ename": "PackageError",
     "evalue": "The requested operation requires that 'torch' is installed on your machine.\n\nIf you think this error is inaccurate, you can set `fiftyone.config.requirement_error_level` to 1 (warning) or 2 (ignore).\nSee https://docs.voxel51.com/user_guide/config.html for details.",
     "output_type": "error",
     "traceback": [
      "\u001b[1;31m---------------------------------------------------------------------------\u001b[0m",
      "\u001b[1;31mPackageNotFoundError\u001b[0m                      Traceback (most recent call last)",
      "File \u001b[1;32md:\\mr_ta\\Documents\\text-generation-webui\\installer_files\\conda\\lib\\site-packages\\eta\\core\\utils.py:740\u001b[0m, in \u001b[0;36m_get_package_version\u001b[1;34m(requirement_str)\u001b[0m\n\u001b[0;32m    739\u001b[0m \u001b[38;5;28;01mtry\u001b[39;00m:\n\u001b[1;32m--> 740\u001b[0m     version \u001b[38;5;241m=\u001b[39m \u001b[43mmetadata\u001b[49m\u001b[38;5;241;43m.\u001b[39;49m\u001b[43mversion\u001b[49m\u001b[43m(\u001b[49m\u001b[43mreq\u001b[49m\u001b[38;5;241;43m.\u001b[39;49m\u001b[43mname\u001b[49m\u001b[43m)\u001b[49m\n\u001b[0;32m    741\u001b[0m     error \u001b[38;5;241m=\u001b[39m \u001b[38;5;28;01mNone\u001b[39;00m\n",
      "File \u001b[1;32md:\\mr_ta\\Documents\\text-generation-webui\\installer_files\\conda\\lib\\importlib\\metadata\\__init__.py:996\u001b[0m, in \u001b[0;36mversion\u001b[1;34m(distribution_name)\u001b[0m\n\u001b[0;32m    990\u001b[0m \u001b[38;5;250m\u001b[39m\u001b[38;5;124;03m\"\"\"Get the version string for the named package.\u001b[39;00m\n\u001b[0;32m    991\u001b[0m \n\u001b[0;32m    992\u001b[0m \u001b[38;5;124;03m:param distribution_name: The name of the distribution package to query.\u001b[39;00m\n\u001b[0;32m    993\u001b[0m \u001b[38;5;124;03m:return: The version string for the package as defined in the package's\u001b[39;00m\n\u001b[0;32m    994\u001b[0m \u001b[38;5;124;03m    \"Version\" metadata key.\u001b[39;00m\n\u001b[0;32m    995\u001b[0m \u001b[38;5;124;03m\"\"\"\u001b[39;00m\n\u001b[1;32m--> 996\u001b[0m \u001b[38;5;28;01mreturn\u001b[39;00m \u001b[43mdistribution\u001b[49m\u001b[43m(\u001b[49m\u001b[43mdistribution_name\u001b[49m\u001b[43m)\u001b[49m\u001b[38;5;241m.\u001b[39mversion\n",
      "File \u001b[1;32md:\\mr_ta\\Documents\\text-generation-webui\\installer_files\\conda\\lib\\importlib\\metadata\\__init__.py:969\u001b[0m, in \u001b[0;36mdistribution\u001b[1;34m(distribution_name)\u001b[0m\n\u001b[0;32m    964\u001b[0m \u001b[38;5;250m\u001b[39m\u001b[38;5;124;03m\"\"\"Get the ``Distribution`` instance for the named package.\u001b[39;00m\n\u001b[0;32m    965\u001b[0m \n\u001b[0;32m    966\u001b[0m \u001b[38;5;124;03m:param distribution_name: The name of the distribution package as a string.\u001b[39;00m\n\u001b[0;32m    967\u001b[0m \u001b[38;5;124;03m:return: A ``Distribution`` instance (or subclass thereof).\u001b[39;00m\n\u001b[0;32m    968\u001b[0m \u001b[38;5;124;03m\"\"\"\u001b[39;00m\n\u001b[1;32m--> 969\u001b[0m \u001b[38;5;28;01mreturn\u001b[39;00m \u001b[43mDistribution\u001b[49m\u001b[38;5;241;43m.\u001b[39;49m\u001b[43mfrom_name\u001b[49m\u001b[43m(\u001b[49m\u001b[43mdistribution_name\u001b[49m\u001b[43m)\u001b[49m\n",
      "File \u001b[1;32md:\\mr_ta\\Documents\\text-generation-webui\\installer_files\\conda\\lib\\importlib\\metadata\\__init__.py:548\u001b[0m, in \u001b[0;36mDistribution.from_name\u001b[1;34m(cls, name)\u001b[0m\n\u001b[0;32m    547\u001b[0m \u001b[38;5;28;01melse\u001b[39;00m:\n\u001b[1;32m--> 548\u001b[0m     \u001b[38;5;28;01mraise\u001b[39;00m PackageNotFoundError(name)\n",
      "\u001b[1;31mPackageNotFoundError\u001b[0m: No package metadata was found for torch",
      "\nThe above exception was the direct cause of the following exception:\n",
      "\u001b[1;31mPackageError\u001b[0m                              Traceback (most recent call last)",
      "Cell \u001b[1;32mIn[2], line 42\u001b[0m, in \u001b[0;36mproceed_step_3\u001b[1;34m(b)\u001b[0m\n\u001b[0;32m     40\u001b[0m \u001b[38;5;28mprint\u001b[39m(\u001b[38;5;124m\"\u001b[39m\u001b[38;5;130;01m\\n\u001b[39;00m\u001b[38;5;124m💿 Analyzing dataset...\u001b[39m\u001b[38;5;130;01m\\n\u001b[39;00m\u001b[38;5;124m\"\u001b[39m)\n\u001b[0;32m     41\u001b[0m dataset \u001b[38;5;241m=\u001b[39m fo\u001b[38;5;241m.\u001b[39mDataset\u001b[38;5;241m.\u001b[39mfrom_dir(images_folder, dataset_type\u001b[38;5;241m=\u001b[39mfo\u001b[38;5;241m.\u001b[39mtypes\u001b[38;5;241m.\u001b[39mImageDirectory)\n\u001b[1;32m---> 42\u001b[0m model \u001b[38;5;241m=\u001b[39m \u001b[43mfoz\u001b[49m\u001b[38;5;241;43m.\u001b[39;49m\u001b[43mload_zoo_model\u001b[49m\u001b[43m(\u001b[49m\u001b[43mmodel_name\u001b[49m\u001b[43m)\u001b[49m\n\u001b[0;32m     43\u001b[0m embeddings \u001b[38;5;241m=\u001b[39m dataset\u001b[38;5;241m.\u001b[39mcompute_embeddings(model, batch_size\u001b[38;5;241m=\u001b[39mbatch_size)\n\u001b[0;32m     45\u001b[0m batch_embeddings \u001b[38;5;241m=\u001b[39m np\u001b[38;5;241m.\u001b[39marray_split(embeddings, batch_size)\n",
      "File \u001b[1;32md:\\mr_ta\\Documents\\text-generation-webui\\installer_files\\conda\\lib\\site-packages\\fiftyone\\zoo\\models\\__init__.py:250\u001b[0m, in \u001b[0;36mload_zoo_model\u001b[1;34m(name, download_if_necessary, ensure_requirements, install_requirements, error_level, cache, **kwargs)\u001b[0m\n\u001b[0;32m    248\u001b[0m     model\u001b[38;5;241m.\u001b[39minstall_requirements(error_level\u001b[38;5;241m=\u001b[39merror_level)\n\u001b[0;32m    249\u001b[0m \u001b[38;5;28;01melif\u001b[39;00m ensure_requirements:\n\u001b[1;32m--> 250\u001b[0m     \u001b[43mmodel\u001b[49m\u001b[38;5;241;43m.\u001b[39;49m\u001b[43mensure_requirements\u001b[49m\u001b[43m(\u001b[49m\u001b[43merror_level\u001b[49m\u001b[38;5;241;43m=\u001b[39;49m\u001b[43merror_level\u001b[49m\u001b[43m)\u001b[49m\n\u001b[0;32m    252\u001b[0m config_dict \u001b[38;5;241m=\u001b[39m deepcopy(model\u001b[38;5;241m.\u001b[39mdefault_deployment_config_dict)\n\u001b[0;32m    253\u001b[0m model_path \u001b[38;5;241m=\u001b[39m model\u001b[38;5;241m.\u001b[39mget_path_in_dir(models_dir)\n",
      "File \u001b[1;32md:\\mr_ta\\Documents\\text-generation-webui\\installer_files\\conda\\lib\\site-packages\\eta\\core\\models.py:1234\u001b[0m, in \u001b[0;36mModel.ensure_requirements\u001b[1;34m(self, error_level, log_success)\u001b[0m\n\u001b[0;32m   1231\u001b[0m \u001b[38;5;28;01mif\u001b[39;00m \u001b[38;5;129;01mnot\u001b[39;00m \u001b[38;5;28mself\u001b[39m\u001b[38;5;241m.\u001b[39mhas_requirements \u001b[38;5;129;01mor\u001b[39;00m error_level \u001b[38;5;241m>\u001b[39m\u001b[38;5;241m=\u001b[39m \u001b[38;5;241m2\u001b[39m:\n\u001b[0;32m   1232\u001b[0m     \u001b[38;5;28;01mreturn\u001b[39;00m\n\u001b[1;32m-> 1234\u001b[0m \u001b[38;5;28;43mself\u001b[39;49m\u001b[38;5;241;43m.\u001b[39;49m\u001b[43mrequirements\u001b[49m\u001b[38;5;241;43m.\u001b[39;49m\u001b[43mensure_base_requirements\u001b[49m\u001b[43m(\u001b[49m\n\u001b[0;32m   1235\u001b[0m \u001b[43m    \u001b[49m\u001b[43merror_level\u001b[49m\u001b[38;5;241;43m=\u001b[39;49m\u001b[43merror_level\u001b[49m\u001b[43m,\u001b[49m\n\u001b[0;32m   1236\u001b[0m \u001b[43m    \u001b[49m\u001b[43merror_suffix\u001b[49m\u001b[38;5;241;43m=\u001b[39;49m\u001b[38;5;28;43mself\u001b[39;49m\u001b[38;5;241;43m.\u001b[39;49m\u001b[43m_REQUIREMENT_ERROR_SUFFIX\u001b[49m\u001b[43m,\u001b[49m\n\u001b[0;32m   1237\u001b[0m \u001b[43m    \u001b[49m\u001b[43mlog_success\u001b[49m\u001b[38;5;241;43m=\u001b[39;49m\u001b[43mlog_success\u001b[49m\u001b[43m,\u001b[49m\n\u001b[0;32m   1238\u001b[0m \u001b[43m\u001b[49m\u001b[43m)\u001b[49m\n\u001b[0;32m   1240\u001b[0m found_gpu \u001b[38;5;241m=\u001b[39m \u001b[38;5;28mself\u001b[39m\u001b[38;5;241m.\u001b[39m_ensure_environment(error_level)\n\u001b[0;32m   1242\u001b[0m \u001b[38;5;28;01mif\u001b[39;00m found_gpu:\n",
      "File \u001b[1;32md:\\mr_ta\\Documents\\text-generation-webui\\installer_files\\conda\\lib\\site-packages\\eta\\core\\models.py:860\u001b[0m, in \u001b[0;36mModelRequirements.ensure_base_requirements\u001b[1;34m(self, error_level, error_suffix, log_success)\u001b[0m\n\u001b[0;32m    843\u001b[0m \u001b[38;5;28;01mdef\u001b[39;00m \u001b[38;5;21mensure_base_requirements\u001b[39m(\n\u001b[0;32m    844\u001b[0m     \u001b[38;5;28mself\u001b[39m, error_level\u001b[38;5;241m=\u001b[39m\u001b[38;5;241m0\u001b[39m, error_suffix\u001b[38;5;241m=\u001b[39m\u001b[38;5;28;01mNone\u001b[39;00m, log_success\u001b[38;5;241m=\u001b[39m\u001b[38;5;28;01mFalse\u001b[39;00m\n\u001b[0;32m    845\u001b[0m ):\n\u001b[0;32m    846\u001b[0m \u001b[38;5;250m    \u001b[39m\u001b[38;5;124;03m\"\"\"Ensures that any base package requirements for the model are\u001b[39;00m\n\u001b[0;32m    847\u001b[0m \u001b[38;5;124;03m    satisfied.\u001b[39;00m\n\u001b[0;32m    848\u001b[0m \n\u001b[1;32m   (...)\u001b[0m\n\u001b[0;32m    858\u001b[0m \u001b[38;5;124;03m            is satisifed\u001b[39;00m\n\u001b[0;32m    859\u001b[0m \u001b[38;5;124;03m    \"\"\"\u001b[39;00m\n\u001b[1;32m--> 860\u001b[0m     \u001b[43m_ensure_requirements\u001b[49m\u001b[43m(\u001b[49m\n\u001b[0;32m    861\u001b[0m \u001b[43m        \u001b[49m\u001b[38;5;28;43mself\u001b[39;49m\u001b[38;5;241;43m.\u001b[39;49m\u001b[43mpackages\u001b[49m\u001b[43m,\u001b[49m\n\u001b[0;32m    862\u001b[0m \u001b[43m        \u001b[49m\u001b[43merror_level\u001b[49m\u001b[38;5;241;43m=\u001b[39;49m\u001b[43merror_level\u001b[49m\u001b[43m,\u001b[49m\n\u001b[0;32m    863\u001b[0m \u001b[43m        \u001b[49m\u001b[43merror_suffix\u001b[49m\u001b[38;5;241;43m=\u001b[39;49m\u001b[43merror_suffix\u001b[49m\u001b[43m,\u001b[49m\n\u001b[0;32m    864\u001b[0m \u001b[43m        \u001b[49m\u001b[43mlog_success\u001b[49m\u001b[38;5;241;43m=\u001b[39;49m\u001b[43mlog_success\u001b[49m\u001b[43m,\u001b[49m\n\u001b[0;32m    865\u001b[0m \u001b[43m    \u001b[49m\u001b[43m)\u001b[49m\n",
      "File \u001b[1;32md:\\mr_ta\\Documents\\text-generation-webui\\installer_files\\conda\\lib\\site-packages\\eta\\core\\models.py:993\u001b[0m, in \u001b[0;36m_ensure_requirements\u001b[1;34m(packages, error_level, error_suffix, log_success)\u001b[0m\n\u001b[0;32m    990\u001b[0m     \u001b[38;5;28;01mreturn\u001b[39;00m\n\u001b[0;32m    992\u001b[0m \u001b[38;5;28;01mfor\u001b[39;00m requirement_str \u001b[38;5;129;01min\u001b[39;00m packages:\n\u001b[1;32m--> 993\u001b[0m     \u001b[43metau\u001b[49m\u001b[38;5;241;43m.\u001b[39;49m\u001b[43mensure_package\u001b[49m\u001b[43m(\u001b[49m\n\u001b[0;32m    994\u001b[0m \u001b[43m        \u001b[49m\u001b[43mrequirement_str\u001b[49m\u001b[43m,\u001b[49m\n\u001b[0;32m    995\u001b[0m \u001b[43m        \u001b[49m\u001b[43merror_level\u001b[49m\u001b[38;5;241;43m=\u001b[39;49m\u001b[43merror_level\u001b[49m\u001b[43m,\u001b[49m\n\u001b[0;32m    996\u001b[0m \u001b[43m        \u001b[49m\u001b[43merror_suffix\u001b[49m\u001b[38;5;241;43m=\u001b[39;49m\u001b[43merror_suffix\u001b[49m\u001b[43m,\u001b[49m\n\u001b[0;32m    997\u001b[0m \u001b[43m        \u001b[49m\u001b[43mlog_success\u001b[49m\u001b[38;5;241;43m=\u001b[39;49m\u001b[43mlog_success\u001b[49m\u001b[43m,\u001b[49m\n\u001b[0;32m    998\u001b[0m \u001b[43m    \u001b[49m\u001b[43m)\u001b[49m\n",
      "File \u001b[1;32md:\\mr_ta\\Documents\\text-generation-webui\\installer_files\\conda\\lib\\site-packages\\eta\\core\\utils.py:721\u001b[0m, in \u001b[0;36mensure_package\u001b[1;34m(requirement_str, error_level, error_msg, error_suffix, log_success)\u001b[0m\n\u001b[0;32m    718\u001b[0m parse_requirement \u001b[38;5;241m=\u001b[39m \u001b[38;5;28;01mlambda\u001b[39;00m req_str: _get_package_version(req_str)\n\u001b[0;32m    719\u001b[0m error_cls \u001b[38;5;241m=\u001b[39m PackageError\n\u001b[1;32m--> 721\u001b[0m \u001b[38;5;28;01mreturn\u001b[39;00m \u001b[43m_ensure_requirements\u001b[49m\u001b[43m(\u001b[49m\n\u001b[0;32m    722\u001b[0m \u001b[43m    \u001b[49m\u001b[43mrequirement_str\u001b[49m\u001b[43m,\u001b[49m\n\u001b[0;32m    723\u001b[0m \u001b[43m    \u001b[49m\u001b[43mparse_requirement\u001b[49m\u001b[43m,\u001b[49m\n\u001b[0;32m    724\u001b[0m \u001b[43m    \u001b[49m\u001b[43merror_level\u001b[49m\u001b[43m,\u001b[49m\n\u001b[0;32m    725\u001b[0m \u001b[43m    \u001b[49m\u001b[43merror_cls\u001b[49m\u001b[43m,\u001b[49m\n\u001b[0;32m    726\u001b[0m \u001b[43m    \u001b[49m\u001b[43merror_msg\u001b[49m\u001b[43m,\u001b[49m\n\u001b[0;32m    727\u001b[0m \u001b[43m    \u001b[49m\u001b[43merror_suffix\u001b[49m\u001b[43m,\u001b[49m\n\u001b[0;32m    728\u001b[0m \u001b[43m    \u001b[49m\u001b[43mlog_success\u001b[49m\u001b[43m,\u001b[49m\n\u001b[0;32m    729\u001b[0m \u001b[43m\u001b[49m\u001b[43m)\u001b[49m\n",
      "File \u001b[1;32md:\\mr_ta\\Documents\\text-generation-webui\\installer_files\\conda\\lib\\site-packages\\eta\\core\\utils.py:856\u001b[0m, in \u001b[0;36m_ensure_requirements\u001b[1;34m(requirement_str, parse_requirement, error_level, error_cls, error_msg, error_suffix, log_success)\u001b[0m\n\u001b[0;32m    854\u001b[0m \u001b[38;5;66;03m# Require all\u001b[39;00m\n\u001b[0;32m    855\u001b[0m results \u001b[38;5;241m=\u001b[39m [parse_requirement(req_str) \u001b[38;5;28;01mfor\u001b[39;00m req_str \u001b[38;5;129;01min\u001b[39;00m requirement_str]\n\u001b[1;32m--> 856\u001b[0m \u001b[38;5;28;01mreturn\u001b[39;00m \u001b[43m_ensure_all_requirements\u001b[49m\u001b[43m(\u001b[49m\n\u001b[0;32m    857\u001b[0m \u001b[43m    \u001b[49m\u001b[43mresults\u001b[49m\u001b[43m,\u001b[49m\n\u001b[0;32m    858\u001b[0m \u001b[43m    \u001b[49m\u001b[43merror_level\u001b[49m\u001b[43m,\u001b[49m\n\u001b[0;32m    859\u001b[0m \u001b[43m    \u001b[49m\u001b[43mlog_success\u001b[49m\u001b[43m,\u001b[49m\n\u001b[0;32m    860\u001b[0m \u001b[43m    \u001b[49m\u001b[43merror_cls\u001b[49m\u001b[38;5;241;43m=\u001b[39;49m\u001b[43merror_cls\u001b[49m\u001b[43m,\u001b[49m\n\u001b[0;32m    861\u001b[0m \u001b[43m    \u001b[49m\u001b[43merror_msg\u001b[49m\u001b[38;5;241;43m=\u001b[39;49m\u001b[43merror_msg\u001b[49m\u001b[43m,\u001b[49m\n\u001b[0;32m    862\u001b[0m \u001b[43m    \u001b[49m\u001b[43merror_suffix\u001b[49m\u001b[38;5;241;43m=\u001b[39;49m\u001b[43merror_suffix\u001b[49m\u001b[43m,\u001b[49m\n\u001b[0;32m    863\u001b[0m \u001b[43m\u001b[49m\u001b[43m)\u001b[49m\n",
      "File \u001b[1;32md:\\mr_ta\\Documents\\text-generation-webui\\installer_files\\conda\\lib\\site-packages\\eta\\core\\utils.py:934\u001b[0m, in \u001b[0;36m_ensure_all_requirements\u001b[1;34m(results, error_level, log_success, error_cls, error_msg, error_suffix)\u001b[0m\n\u001b[0;32m    931\u001b[0m \u001b[38;5;28;01mif\u001b[39;00m error_suffix \u001b[38;5;129;01mis\u001b[39;00m \u001b[38;5;129;01mnot\u001b[39;00m \u001b[38;5;28;01mNone\u001b[39;00m \u001b[38;5;129;01mand\u001b[39;00m error_level \u001b[38;5;241m<\u001b[39m\u001b[38;5;241m=\u001b[39m \u001b[38;5;241m0\u001b[39m:\n\u001b[0;32m    932\u001b[0m     error_msg \u001b[38;5;241m+\u001b[39m\u001b[38;5;241m=\u001b[39m \u001b[38;5;124m\"\u001b[39m\u001b[38;5;130;01m\\n\u001b[39;00m\u001b[38;5;130;01m\\n\u001b[39;00m\u001b[38;5;124m\"\u001b[39m \u001b[38;5;241m+\u001b[39m error_suffix\n\u001b[1;32m--> 934\u001b[0m \u001b[43mhandle_error\u001b[49m\u001b[43m(\u001b[49m\u001b[43merror_cls\u001b[49m\u001b[43m(\u001b[49m\u001b[43merror_msg\u001b[49m\u001b[43m)\u001b[49m\u001b[43m,\u001b[49m\u001b[43m \u001b[49m\u001b[43merror_level\u001b[49m\u001b[43m,\u001b[49m\u001b[43m \u001b[49m\u001b[43mbase_error\u001b[49m\u001b[38;5;241;43m=\u001b[39;49m\u001b[43mlast_error\u001b[49m\u001b[43m)\u001b[49m\n\u001b[0;32m    936\u001b[0m \u001b[38;5;28;01mreturn\u001b[39;00m \u001b[38;5;28;01mFalse\u001b[39;00m\n",
      "File \u001b[1;32md:\\mr_ta\\Documents\\text-generation-webui\\installer_files\\conda\\lib\\site-packages\\eta\\core\\utils.py:1014\u001b[0m, in \u001b[0;36mhandle_error\u001b[1;34m(error, error_level, base_error)\u001b[0m\n\u001b[0;32m   1012\u001b[0m \u001b[38;5;28;01mif\u001b[39;00m error_level \u001b[38;5;241m<\u001b[39m\u001b[38;5;241m=\u001b[39m \u001b[38;5;241m0\u001b[39m:\n\u001b[0;32m   1013\u001b[0m     \u001b[38;5;28;01mif\u001b[39;00m base_error \u001b[38;5;129;01mis\u001b[39;00m \u001b[38;5;129;01mnot\u001b[39;00m \u001b[38;5;28;01mNone\u001b[39;00m:\n\u001b[1;32m-> 1014\u001b[0m         \u001b[43msix\u001b[49m\u001b[38;5;241;43m.\u001b[39;49m\u001b[43mraise_from\u001b[49m\u001b[43m(\u001b[49m\u001b[43merror\u001b[49m\u001b[43m,\u001b[49m\u001b[43m \u001b[49m\u001b[43mbase_error\u001b[49m\u001b[43m)\u001b[49m\n\u001b[0;32m   1015\u001b[0m     \u001b[38;5;28;01melse\u001b[39;00m:\n\u001b[0;32m   1016\u001b[0m         \u001b[38;5;28;01mraise\u001b[39;00m error\n",
      "File \u001b[1;32m<string>:3\u001b[0m, in \u001b[0;36mraise_from\u001b[1;34m(value, from_value)\u001b[0m\n",
      "\u001b[1;31mPackageError\u001b[0m: The requested operation requires that 'torch' is installed on your machine.\n\nIf you think this error is inaccurate, you can set `fiftyone.config.requirement_error_level` to 1 (warning) or 2 (ignore).\nSee https://docs.voxel51.com/user_guide/config.html for details."
     ]
    }
   ],
   "source": [
    "if \"step1_installed_flag\" not in globals():\n",
    "  raise Exception(\"Please run step 1 first!\")\n",
    "\n",
    "similarity_threshold_widget = widgets.FloatText(\n",
    "    value=3e-4,\n",
    "    description='Similarity threshold:',\n",
    "    disabled=False\n",
    ")\n",
    "\n",
    "def proceed_step_3(b):\n",
    "    similarity_threshold = similarity_threshold_widget.value\n",
    "    os.chdir(root_dir)\n",
    "    model_name = \"clip-vit-base32-torch\"\n",
    "    supported_types = (\".png\", \".jpg\", \".jpeg\")\n",
    "    img_count = len(os.listdir(images_folder))\n",
    "    batch_size = min(250, img_count)\n",
    "\n",
    "    if \"step3_installed_flag\" not in globals():\n",
    "        print(\"🏭 Installing dependencies...\\n\")\n",
    "        %pip -q install fiftyone ftfy\n",
    "        %pip -q install fiftyone-db-ubuntu2204\n",
    "        if not get_ipython().__dict__['user_ns']['_exit_code']:\n",
    "            clear_output()\n",
    "            step3_installed_flag = True\n",
    "        else:\n",
    "            print(\"❌ Error installing dependencies, attempting to continue anyway...\")\n",
    "\n",
    "    import numpy as np\n",
    "    import fiftyone as fo\n",
    "    import fiftyone.zoo as foz\n",
    "    from fiftyone import ViewField as F\n",
    "    from sklearn.metrics.pairwise import cosine_similarity\n",
    "\n",
    "    non_images = [f for f in os.listdir(images_folder) if not f.lower().endswith(supported_types)]\n",
    "    if non_images:\n",
    "        print(f\"💥 Error: Found non-image file {non_images[0]} - This program doesn't allow it. Sorry! Use the Extras at the bottom to clean the folder.\")\n",
    "    elif img_count == 0:\n",
    "        print(f\"💥 Error: No images found in {images_folder}\")\n",
    "    else:\n",
    "        print(\"\\n💿 Analyzing dataset...\\n\")\n",
    "        dataset = fo.Dataset.from_dir(images_folder, dataset_type=fo.types.ImageDirectory)\n",
    "        model = foz.load_zoo_model(model_name)\n",
    "        embeddings = dataset.compute_embeddings(model, batch_size=batch_size)\n",
    "\n",
    "        batch_embeddings = np.array_split(embeddings, batch_size)\n",
    "        similarity_matrices = []\n",
    "        max_size_x = max(array.shape[0] for array in batch_embeddings)\n",
    "        max_size_y = max(array.shape[1] for array in batch_embeddings)\n",
    "\n",
    "        for i, batch_embedding in enumerate(batch_embeddings):\n",
    "            similarity = cosine_similarity(batch_embedding)\n",
    "            #Pad 0 for np.concatenate\n",
    "            padded_array = np.zeros((max_size_x, max_size_y))\n",
    "            padded_array[0:similarity.shape[0], 0:similarity.shape[1]] = similarity\n",
    "            similarity_matrices.append(padded_array)\n",
    "\n",
    "        similarity_matrix = np.concatenate(similarity_matrices, axis=0)\n",
    "        similarity_matrix = similarity_matrix[0:embeddings.shape[0], 0:embeddings.shape[0]]\n",
    "\n",
    "        similarity_matrix = cosine_similarity(embeddings)\n",
    "        similarity_matrix -= np.identity(len(similarity_matrix))\n",
    "\n",
    "        dataset.match(F(\"max_similarity\") > similarity_threshold)\n",
    "        dataset.tags = [\"delete\", \"has_duplicates\"]\n",
    "\n",
    "        id_map = [s.id for s in dataset.select_fields([\"id\"])]\n",
    "        samples_to_remove = set()\n",
    "        samples_to_keep = set()\n",
    "\n",
    "        for idx, sample in enumerate(dataset):\n",
    "            if sample.id not in samples_to_remove:\n",
    "            # Keep the first instance of two duplicates\n",
    "                samples_to_keep.add(sample.id)\n",
    "        \n",
    "            dup_idxs = np.where(similarity_matrix[idx] > similarity_threshold)[0]\n",
    "            for dup in dup_idxs:\n",
    "                # We kept the first instance so remove all other duplicates\n",
    "                samples_to_remove.add(id_map[dup])\n",
    "\n",
    "            if len(dup_idxs) > 0:\n",
    "                sample.tags.append(\"has_duplicates\")\n",
    "                sample.save()\n",
    "            else:\n",
    "                sample.tags.append(\"delete\")\n",
    "                sample.save()\n",
    "\n",
    "        clear_output()\n",
    "\n",
    "        sidebar_groups = fo.DatasetAppConfig.default_sidebar_groups(dataset)\n",
    "        for group in sidebar_groups[1:]:\n",
    "            group.expanded = False\n",
    "            dataset.app_config.sidebar_groups = sidebar_groups\n",
    "            dataset.save()\n",
    "            session = fo.launch_app(dataset)\n",
    "\n",
    "        print(\"❗ Wait a minute for the session to load. If it doesn't, read above.\")\n",
    "        print(\"❗ When it's ready, you'll see a grid of your images.\")\n",
    "        print(\"❗ On the left side enable \\\"sample tags\\\" to visualize the images marked for deletion.\")\n",
    "        print(\"❗ You can mark your own images with the \\\"delete\\\" label by selecting them and pressing the tag icon at the top.\")\n",
    "        input(\"⭕ When you're done, enter something here to save your changes: \")\n",
    "\n",
    "        print(\"💾 Saving...\")\n",
    "\n",
    "        marked = [s for s in dataset if \"delete\" in s.tags]\n",
    "        dataset.remove_samples(marked)\n",
    "        previous_folder = images_folder[:images_folder.rfind(\"/\")]\n",
    "        dataset.export(export_dir=os.path.join(images_folder, project_subfolder), dataset_type=fo.types.ImageDirectory)\n",
    "        \n",
    "        temp_suffix = \"_temp\"\n",
    "        !mv {images_folder} {images_folder}{temp_suffix}\n",
    "        !mv {images_folder}{temp_suffix}/{project_subfolder} {images_folder}\n",
    "        !rm -r {images_folder}{temp_suffix}\n",
    "\n",
    "        session.refresh()\n",
    "        fo.close_app()\n",
    "        clear_output()\n",
    "\n",
    "        print(f\"\\n✅ Removed {len(marked)} images from dataset. You now have {len(os.listdir(images_folder))} images.\")\n",
    "\n",
    "proceed3_btn = widgets.Button(\n",
    "    description='Proceed',\n",
    "    disabled=False,\n",
    "    button_style='',  # 'success', 'info', 'warning', 'danger' or ''\n",
    "    tooltip='Proceed',\n",
    "    icon='check'  # (FontAwesome names without the `fa-` prefix)\n",
    ")\n",
    "proceed3_btn.on_click(proceed_step_3)\n",
    "\n",
    "display(\n",
    "    widgets.HTML(\"<h2>3️⃣ Curate your images</h2>\"),\n",
    "    widgets.Label(\"We will find duplicate images with the FiftyOne AI, and mark them with `delete`.\"),\n",
    "    widgets.Label(\"Then, an interactive area will appear below this cell that lets you visualize all your images and manually mark with `delete` to the ones you don't like.\"),\n",
    "    widgets.Label(\"If the interactive area appears blank for over a minute, try enabling cookies and removing tracking protection for the Google Colab website, as they may break it.\"),\n",
    "    widgets.Label(\"Regardless, you can save your changes by sending Enter in the input box above the interactive area.\"),\n",
    "    widgets.Label(\"This is how similar 2 images must be to be marked for deletion. I recommend 0.97 to 0.99:\"),\n",
    "    similarity_threshold_widget,\n",
    "    proceed3_btn\n",
    ")"
   ]
  },
  {
   "cell_type": "code",
   "execution_count": 17,
   "metadata": {
    "cellView": "form",
    "id": "sl4FD7Mz-uea"
   },
   "outputs": [
    {
     "data": {
      "application/vnd.jupyter.widget-view+json": {
       "model_id": "aeada0b7970e42b2895413e10c30942d",
       "version_major": 2,
       "version_minor": 0
      },
      "text/plain": [
       "HTML(value='<h2>4️⃣ Tag your images</h2>')"
      ]
     },
     "metadata": {},
     "output_type": "display_data"
    },
    {
     "data": {
      "application/vnd.jupyter.widget-view+json": {
       "model_id": "ba04f66c6ecd45d49ee204dfee1f5627",
       "version_major": 2,
       "version_minor": 0
      },
      "text/plain": [
       "HTML(value=\"<p>We will be using AI to automatically tag your images, specifically \\n        <a href='https://h…"
      ]
     },
     "metadata": {},
     "output_type": "display_data"
    },
    {
     "data": {
      "application/vnd.jupyter.widget-view+json": {
       "model_id": "ba1bed3cbb2e49d8b0b9795e7ac5f6aa",
       "version_major": 2,
       "version_minor": 0
      },
      "text/plain": [
       "Label(value='Giving tags/captions to your images allows for much better training. \\n        This process shoul…"
      ]
     },
     "metadata": {},
     "output_type": "display_data"
    },
    {
     "data": {
      "application/vnd.jupyter.widget-view+json": {
       "model_id": "07d4d440ee31457fb9aa240a4f273eea",
       "version_major": 2,
       "version_minor": 0
      },
      "text/plain": [
       "Dropdown(description='Method', options=('Anime tags', 'Photo captions'), value='Anime tags')"
      ]
     },
     "metadata": {},
     "output_type": "display_data"
    },
    {
     "data": {
      "application/vnd.jupyter.widget-view+json": {
       "model_id": "e283ff0f1acc4cc8b1736434b01e5ba9",
       "version_major": 2,
       "version_minor": 0
      },
      "text/plain": [
       "HTML(value='<b>Anime:</b> The threshold is the minimum level of confidence the tagger must have \\n      in ord…"
      ]
     },
     "metadata": {},
     "output_type": "display_data"
    },
    {
     "data": {
      "application/vnd.jupyter.widget-view+json": {
       "model_id": "80152802caaa42498b6f60242cc2f03b",
       "version_major": 2,
       "version_minor": 0
      },
      "text/plain": [
       "BoundedFloatText(value=0.35, description='Tag threshold:', max=1.0, step=0.01)"
      ]
     },
     "metadata": {},
     "output_type": "display_data"
    },
    {
     "data": {
      "application/vnd.jupyter.widget-view+json": {
       "model_id": "0cc8d1f966044e14a4f21ff1110caeb0",
       "version_major": 2,
       "version_minor": 0
      },
      "text/plain": [
       "HTML(value='<b>Photos:</b> The minimum and maximum length of tokens/words in each caption.')"
      ]
     },
     "metadata": {},
     "output_type": "display_data"
    },
    {
     "data": {
      "application/vnd.jupyter.widget-view+json": {
       "model_id": "0f3375d861644129a01a00be84387eb2",
       "version_major": 2,
       "version_minor": 0
      },
      "text/plain": [
       "IntText(value=10, description='Caption min:')"
      ]
     },
     "metadata": {},
     "output_type": "display_data"
    },
    {
     "data": {
      "application/vnd.jupyter.widget-view+json": {
       "model_id": "c57099a7940743088c4ba70690ec6cdb",
       "version_major": 2,
       "version_minor": 0
      },
      "text/plain": [
       "IntText(value=75, description='Caption min:')"
      ]
     },
     "metadata": {},
     "output_type": "display_data"
    },
    {
     "data": {
      "application/vnd.jupyter.widget-view+json": {
       "model_id": "9fa1b9de42914f538431646e9e34ac4c",
       "version_major": 2,
       "version_minor": 0
      },
      "text/plain": [
       "Button(description='Proceed', icon='check', style=ButtonStyle(), tooltip='Proceed')"
      ]
     },
     "metadata": {},
     "output_type": "display_data"
    }
   ],
   "source": [
    "if \"step1_installed_flag\" not in globals():\n",
    "    raise Exception(\"Please run step 1 first!\")\n",
    "\n",
    "method_widget = widgets.Dropdown(\n",
    "    value=\"Anime tags\", options=[\"Anime tags\", \"Photo captions\"], description=\"Method\"\n",
    ")\n",
    "\n",
    "tag_threshold_widget = widgets.BoundedFloatText(\n",
    "    value=0.35, min=0.0, max=1.0, step=0.01, description=\"Tag threshold:\"\n",
    ")\n",
    "\n",
    "blacklist_tags_widget = widgets.Textarea(\n",
    "    value=\"bangs, breasts, multicolored hair, two-tone hair, gradient hair, virtual youtuber, parody, style parody, official alternate costume, official alternate hairstyle, official alternate hair length, alternate costume, alternate hairstyle, alternate hair length, alternate hair color\",\n",
    "    description=\"Blacklist tags:\",\n",
    "    disabled=False,\n",
    ")\n",
    "\n",
    "caption_min_widget = widgets.IntText(\n",
    "    value=10, description=\"Caption min:\", disabled=False\n",
    ")\n",
    "\n",
    "caption_max_widget = widgets.IntText(\n",
    "    value=75, description=\"Caption min:\", disabled=False\n",
    ")\n",
    "\n",
    "proceed4_btn = widgets.Button(\n",
    "    description=\"Proceed\",\n",
    "    disabled=False,\n",
    "    button_style=\"\",  # 'success', 'info', 'warning', 'danger' or ''\n",
    "    tooltip=\"Proceed\",\n",
    "    icon=\"check\",  # (FontAwesome names without the `fa-` prefix)\n",
    ")\n",
    "\n",
    "display(\n",
    "    widgets.HTML(\"<h2>4️⃣ Tag your images</h2>\"),\n",
    "    widgets.HTML(\n",
    "        \"\"\"<p>We will be using AI to automatically tag your images, specifically \n",
    "        <a href='https://huggingface.co/SmilingWolf/wd-v1-4-swinv2-tagger-v2'>Waifu Diffusion</a> \n",
    "        in the case of anime and <a href='https://huggingface.co/spaces/Salesforce/BLIP'>BLIP</a> \n",
    "        in the case of photos.</p>\n",
    "    \"\"\"\n",
    "    ),\n",
    "    widgets.Label(\n",
    "        \"\"\"Giving tags/captions to your images allows for much better training. \n",
    "        This process should take a couple minutes.\"\"\"\n",
    "    ),\n",
    "    method_widget,\n",
    "    widgets.HTML(\n",
    "        \"\"\"<b>Anime:</b> The threshold is the minimum level of confidence the tagger must have \n",
    "      in order to include a tag. Lower threshold = More tags. Recommended 0.35 to 0.5\n",
    "    \"\"\"\n",
    "    ),\n",
    "    tag_threshold_widget,\n",
    "    widgets.HTML(\n",
    "        \"\"\"<b>Photos:</b> The minimum and maximum length of tokens/words in each caption.\"\"\"\n",
    "    ),\n",
    "    caption_min_widget,\n",
    "    caption_max_widget,\n",
    "    proceed4_btn,\n",
    ")\n",
    "\n",
    "def proceed_step_4(b):\n",
    "    method = method_widget.value\n",
    "    tag_threshold = tag_threshold_widget.value\n",
    "    blacklist_tags = blacklist_tags_widget.value\n",
    "    caption_min = caption_min_widget.value\n",
    "    caption_max = caption_max_widget.value\n",
    "\n",
    "    # %env PYTHONPATH=/env/python\n",
    "    os.chdir(root_dir)\n",
    "    kohya = os.path.join(root_dir, \"sd-scripts\")\n",
    "    if not os.path.exists(kohya):\n",
    "        !git clone https://github.com/kohya-ss/sd-scripts {kohya}\n",
    "        os.chdir(kohya)\n",
    "        !git checkout tags/v0.8.7\n",
    "        !git reset --hard\n",
    "        os.chdir(root_dir)\n",
    "\n",
    "    if \"tags\" in method:\n",
    "\n",
    "        if \"step4a_installed_flag\" not in globals():\n",
    "            print(\"\\n🏭 Installing dependencies...\\n\")\n",
    "            !pip install accelerate==0.15.0 diffusers[torch]==0.10.2 einops==0.6.0 tensorflow transformers safetensors huggingface-hub torchvision albumentations jax==0.4.23 jaxlib==0.4.23\n",
    "            if not get_ipython().__dict__[\"user_ns\"][\"_exit_code\"]:\n",
    "                clear_output()\n",
    "                step4a_installed_flag = True\n",
    "            else:\n",
    "                print(\"❌ Error installing dependencies, trying to continue anyway...\")\n",
    "\n",
    "        print(\"\\n🚶‍♂️ Launching program...\\n\")\n",
    "\n",
    "        os.environ[\"TF_CPP_MIN_LOG_LEVEL\"] = \"2\"\n",
    "        # %env PYTHONPATH={kohya}\n",
    "        %run -i {kohya}/finetune/tag_images_by_wd14_tagger.py \\\n",
    "            {images_folder} \\\n",
    "            --repo_id=SmilingWolf/wd-v1-4-swinv2-tagger-v2 \\\n",
    "            --model_dir={root_dir} \\\n",
    "            --thresh={tag_threshold} \\\n",
    "            --batch_size=8 \\\n",
    "            --caption_extension=.txt \\\n",
    "            --force_download\n",
    "\n",
    "        if not get_ipython().__dict__[\"user_ns\"][\"_exit_code\"]:\n",
    "            print(\"removing underscores and blacklist...\")\n",
    "            blacklisted_tags = [t.strip() for t in blacklist_tags.split(\",\")]\n",
    "            from collections import Counter\n",
    "\n",
    "            top_tags = Counter()\n",
    "            for txt in [f for f in os.listdir(images_folder) if f.lower().endswith(\".txt\")]:\n",
    "                with open(os.path.join(images_folder, txt), \"r\") as f:\n",
    "                    tags = [t.strip() for t in f.read().split(\",\")]\n",
    "                    tags = [t.replace(\"_\", \" \") if len(t) > 3 else t for t in tags]\n",
    "                    tags = [t for t in tags if t not in blacklisted_tags]\n",
    "                top_tags.update(tags)\n",
    "                with open(os.path.join(images_folder, txt), \"w\") as f:\n",
    "                    f.write(\", \".join(tags))\n",
    "\n",
    "            # %env PYTHONPATH=/env/python\n",
    "            # clear_output()\n",
    "            print(f\"📊 Tagging complete. Here are the top 50 tags in your dataset:\")\n",
    "            print(\"\\n\".join(f\"{k} ({v})\" for k, v in top_tags.most_common(50)))\n",
    "\n",
    "\n",
    "    else:  # Photos\n",
    "        if \"step4b_installed_flag\" not in globals():\n",
    "            print(\"\\n🏭 Installing dependencies...\\n\")\n",
    "            !pip install timm==0.6.12 fairscale==0.4.13 transformers==4.26.0 requests==2.28.2 accelerate==0.15.0 diffusers[torch]==0.10.2 einops==0.6.0 safetensors==0.2.6 jax==0.4.23 jaxlib==0.4.23\n",
    "            if not get_ipython().__dict__[\"user_ns\"][\"_exit_code\"]:\n",
    "                # clear_output()\n",
    "                step4b_installed_flag = True\n",
    "            else:\n",
    "                print(\"❌ Error installing dependencies, trying to continue anyway...\")\n",
    "\n",
    "        display(\"\\n🚶‍♂️ Launching program...\\n\")\n",
    "\n",
    "        os.chdir(kohya)\n",
    "        print(f\"{images_folder}\")\n",
    "        # %env PYTHONPATH={kohya}\n",
    "        !python -i {kohya}/finetune/make_captions.py \\\n",
    "            {images_folder} \\\n",
    "            --beam_search \\\n",
    "            --max_data_loader_n_workers=2 \\\n",
    "            --batch_size=8 \\\n",
    "            --min_length={caption_min} \\\n",
    "            --max_length={caption_max} \\\n",
    "            --caption_extension=.txt\n",
    "\n",
    "        if not get_ipython().__dict__[\"user_ns\"][\"_exit_code\"]:\n",
    "            import random\n",
    "\n",
    "            captions = [f for f in os.listdir(images_folder) if f.lower().endswith(\".txt\")]\n",
    "            sample = []\n",
    "            for txt in random.sample(captions, min(10, len(captions))):\n",
    "                with open(os.path.join(images_folder, txt), \"r\") as f:\n",
    "                    sample.append(f.read())\n",
    "\n",
    "            os.chdir(root_dir)\n",
    "            # %env PYTHONPATH=/env/python\n",
    "            # clear_output()\n",
    "            print(\n",
    "                f\"📊 Captioning complete. Here are {len(sample)} example captions from your dataset:\"\n",
    "            )\n",
    "            print(\"\".join(sample))\n",
    "\n",
    "proceed4_btn.on_click(proceed_step_4)"
   ]
  },
  {
   "cell_type": "code",
   "execution_count": 7,
   "metadata": {
    "cellView": "form",
    "id": "WBFik7accyDz"
   },
   "outputs": [
    {
     "data": {
      "application/vnd.jupyter.widget-view+json": {
       "model_id": "3223a8cf42bf4fdcb081d286c78ba258",
       "version_major": 2,
       "version_minor": 0
      },
      "text/plain": [
       "HTML(value='<h2>5️⃣ Curate your tags</h2>')"
      ]
     },
     "metadata": {},
     "output_type": "display_data"
    },
    {
     "data": {
      "application/vnd.jupyter.widget-view+json": {
       "model_id": "3836ca06aa6848a99ed219f263c64ad4",
       "version_major": 2,
       "version_minor": 0
      },
      "text/plain": [
       "Label(value=\"Modify your dataset's tags. You can run this cell multiple times with different parameters.\")"
      ]
     },
     "metadata": {},
     "output_type": "display_data"
    },
    {
     "data": {
      "application/vnd.jupyter.widget-view+json": {
       "model_id": "09d07cbfb5a64a1c90ff017e04cecd70",
       "version_major": 2,
       "version_minor": 0
      },
      "text/plain": [
       "Label(value='Put an activation tag at the start of every text file. This is useful to make learning better and…"
      ]
     },
     "metadata": {},
     "output_type": "display_data"
    },
    {
     "data": {
      "application/vnd.jupyter.widget-view+json": {
       "model_id": "0f753957ce4b464d85fe72a5c65e64ff",
       "version_major": 2,
       "version_minor": 0
      },
      "text/plain": [
       "Label(value='Common tags that are removed such as hair color, etc. will be \"absorbed\" by your activation tag.'…"
      ]
     },
     "metadata": {},
     "output_type": "display_data"
    },
    {
     "data": {
      "application/vnd.jupyter.widget-view+json": {
       "model_id": "b909b9b4f41d4fab874c51a99c1b7cee",
       "version_major": 2,
       "version_minor": 0
      },
      "text/plain": [
       "Text(value='', description='Global activation tag:', placeholder='hatsune miku')"
      ]
     },
     "metadata": {},
     "output_type": "display_data"
    },
    {
     "data": {
      "application/vnd.jupyter.widget-view+json": {
       "model_id": "525325c57518442f96fde2b6b471ad52",
       "version_major": 2,
       "version_minor": 0
      },
      "text/plain": [
       "Text(value='', description='Remove tags:')"
      ]
     },
     "metadata": {},
     "output_type": "display_data"
    },
    {
     "data": {
      "application/vnd.jupyter.widget-view+json": {
       "model_id": "feea69e3649143a9b2d5d163724a779d",
       "version_major": 2,
       "version_minor": 0
      },
      "text/plain": [
       "Label(value='')"
      ]
     },
     "metadata": {},
     "output_type": "display_data"
    },
    {
     "data": {
      "application/vnd.jupyter.widget-view+json": {
       "model_id": "2a375e34269b42829922d81ce0b3785e",
       "version_major": 2,
       "version_minor": 0
      },
      "text/plain": [
       "Label(value='In this advanced section, you can search text files containing matching tags, and replace them wi…"
      ]
     },
     "metadata": {},
     "output_type": "display_data"
    },
    {
     "data": {
      "application/vnd.jupyter.widget-view+json": {
       "model_id": "0ba0eeaa47d24af896459bf470b492c6",
       "version_major": 2,
       "version_minor": 0
      },
      "text/plain": [
       "Text(value='', description='Search tags:')"
      ]
     },
     "metadata": {},
     "output_type": "display_data"
    },
    {
     "data": {
      "application/vnd.jupyter.widget-view+json": {
       "model_id": "a6df9d7fc72b4e8582fbfba68e8551a2",
       "version_major": 2,
       "version_minor": 0
      },
      "text/plain": [
       "Text(value='', description='Replace with:')"
      ]
     },
     "metadata": {},
     "output_type": "display_data"
    },
    {
     "data": {
      "application/vnd.jupyter.widget-view+json": {
       "model_id": "6e570d3ff2bb4b209ec71a21979bd6ac",
       "version_major": 2,
       "version_minor": 0
      },
      "text/plain": [
       "Dropdown(description='Search Mode', options=('OR', 'AND'), value='OR')"
      ]
     },
     "metadata": {},
     "output_type": "display_data"
    },
    {
     "data": {
      "application/vnd.jupyter.widget-view+json": {
       "model_id": "55ced3c0af6241b893a762e40c2c7d2f",
       "version_major": 2,
       "version_minor": 0
      },
      "text/plain": [
       "Checkbox(value=False, description='New becomes activation tag:')"
      ]
     },
     "metadata": {},
     "output_type": "display_data"
    },
    {
     "data": {
      "application/vnd.jupyter.widget-view+json": {
       "model_id": "bcd241311f3d47deb259b4e36ddb2a9f",
       "version_major": 2,
       "version_minor": 0
      },
      "text/plain": [
       "Label(value='These may be useful sometimes. Will remove existing activation tags, be careful.')"
      ]
     },
     "metadata": {},
     "output_type": "display_data"
    },
    {
     "data": {
      "application/vnd.jupyter.widget-view+json": {
       "model_id": "bcc891b490974ce8916b9282bd01c3d4",
       "version_major": 2,
       "version_minor": 0
      },
      "text/plain": [
       "Checkbox(value=False, description='Sort alphabetically:')"
      ]
     },
     "metadata": {},
     "output_type": "display_data"
    },
    {
     "data": {
      "application/vnd.jupyter.widget-view+json": {
       "model_id": "699b46954dcf495e8eb0b475e3da0716",
       "version_major": 2,
       "version_minor": 0
      },
      "text/plain": [
       "Checkbox(value=False, description='Remove duplicates:')"
      ]
     },
     "metadata": {},
     "output_type": "display_data"
    },
    {
     "data": {
      "application/vnd.jupyter.widget-view+json": {
       "model_id": "d7e34700ff814299a15389ca7c037280",
       "version_major": 2,
       "version_minor": 0
      },
      "text/plain": [
       "Button(description='Proceed', icon='check', style=ButtonStyle(), tooltip='Proceed')"
      ]
     },
     "metadata": {},
     "output_type": "display_data"
    },
    {
     "name": "stdout",
     "output_type": "stream",
     "text": [
      "\n",
      "📎 Applied new activation tag(s): spy_x_family\n",
      "\n",
      "✅ Done! Check your updated tags in the Extras below.\n"
     ]
    }
   ],
   "source": [
    "if \"step1_installed_flag\" not in globals():\n",
    "    raise Exception(\"Please run step 1 first!\")\n",
    "\n",
    "global_activation_tag_widget = widgets.Text(\n",
    "    placeholder=\"hatsune miku\",\n",
    "    description='Global activation tag:',\n",
    ")\n",
    "\n",
    "remove_tags_widget = widgets.Text(\n",
    "    description='Remove tags:',\n",
    ")\n",
    "\n",
    "search_tags_widget = widgets.Text(\n",
    "    description='Search tags:'\n",
    ")\n",
    "\n",
    "replace_with_widget = widgets.Text(\n",
    "    description='Replace with:'\n",
    ")\n",
    "\n",
    "search_mode_widget = widgets.Dropdown(\n",
    "    description='Search Mode',\n",
    "    options=[\"OR\", \"AND\"],\n",
    "    value='OR'\n",
    ")\n",
    "\n",
    "new_becomes_activation_tag_widget = widgets.Checkbox(\n",
    "    value=False,\n",
    "    description='New becomes activation tag:',\n",
    ")\n",
    "\n",
    "sort_alphabetically_widget = widgets.Checkbox(\n",
    "    value=False,\n",
    "    description='Sort alphabetically:',\n",
    ")\n",
    "\n",
    "remove_duplicates_widget = widgets.Checkbox(\n",
    "    value=False,\n",
    "    description='Remove duplicates:',\n",
    ")\n",
    "\n",
    "proceed5_btn = widgets.Button(\n",
    "    description=\"Proceed\",\n",
    "    disabled=False,\n",
    "    button_style=\"\",  # 'success', 'info', 'warning', 'danger' or ''\n",
    "    tooltip=\"Proceed\",\n",
    "    icon=\"check\",  # (FontAwesome names without the `fa-` prefix)\n",
    ")\n",
    "\n",
    "display(\n",
    "    widgets.HTML('''<h2>5️⃣ Curate your tags</h2>'''),\n",
    "    widgets.Label(\"Modify your dataset's tags. You can run this cell multiple times with different parameters.\"),\n",
    "    widgets.Label(\"Put an activation tag at the start of every text file. This is useful to make learning better and activate your Lora easier. Set `keep_tokens` to 1 when training.<p>\"),\n",
    "    widgets.Label('Common tags that are removed such as hair color, etc. will be \"absorbed\" by your activation tag.'),\n",
    "    global_activation_tag_widget,\n",
    "    remove_tags_widget,\n",
    "    widgets.Label(),\n",
    "    widgets.Label(\"In this advanced section, you can search text files containing matching tags, and replace them with less/more/different tags. If you select the checkbox below, any extra tags will be put at the start of the file, letting you assign different activation tags to different parts of your dataset. Still, you may want a more advanced tool for this.\"),\n",
    "    search_tags_widget,\n",
    "    replace_with_widget,\n",
    "    search_mode_widget,\n",
    "    new_becomes_activation_tag_widget,\n",
    "    widgets.Label(\"These may be useful sometimes. Will remove existing activation tags, be careful.\"),\n",
    "    sort_alphabetically_widget,\n",
    "    remove_duplicates_widget,\n",
    "    proceed5_btn\n",
    ")\n",
    "\n",
    "def proceed_step_5(b):\n",
    "    global_activation_tag = global_activation_tag_widget.value\n",
    "    remove_tags = remove_tags_widget.value\n",
    "   \n",
    "    search_tags = search_tags_widget.value\n",
    "    replace_with = replace_with_widget.value\n",
    "    search_mode = search_mode_widget.value\n",
    "    new_becomes_activation_tag = new_becomes_activation_tag_widget.value\n",
    "    \n",
    "    sort_alphabetically = sort_alphabetically_widget.value\n",
    "    remove_duplicates = remove_duplicates_widget.value\n",
    "\n",
    "    def split_tags(tagstr):\n",
    "        return [s.strip() for s in tagstr.split(\",\") if s.strip()]\n",
    "\n",
    "    activation_tag_list = split_tags(global_activation_tag)\n",
    "    remove_tags_list = split_tags(remove_tags)\n",
    "    search_tags_list = split_tags(search_tags)\n",
    "    replace_with_list = split_tags(replace_with)\n",
    "    replace_new_list = [t for t in replace_with_list if t not in search_tags_list]\n",
    "\n",
    "    replace_with_list = [t for t in replace_with_list if t not in replace_new_list]\n",
    "    replace_new_list.reverse()\n",
    "    activation_tag_list.reverse()\n",
    "\n",
    "    remove_count = 0\n",
    "    replace_count = 0\n",
    "\n",
    "    for txt in [f for f in os.listdir(images_folder) if f.lower().endswith(\".txt\")]:\n",
    "\n",
    "        with open(os.path.join(images_folder, txt), \"r\") as f:\n",
    "            tags = [s.strip() for s in f.read().split(\",\")]\n",
    "\n",
    "        if remove_duplicates:\n",
    "            tags = list(set(tags))\n",
    "        if sort_alphabetically:\n",
    "            tags.sort()\n",
    "\n",
    "        for rem in remove_tags_list:\n",
    "            if rem in tags:\n",
    "                remove_count += 1\n",
    "                tags.remove(rem)\n",
    "\n",
    "        if (\n",
    "            \"AND\" in search_mode\n",
    "            and all(r in tags for r in search_tags_list)\n",
    "            or \"OR\" in search_mode\n",
    "            and any(r in tags for r in search_tags_list)\n",
    "        ):\n",
    "            replace_count += 1\n",
    "            for rem in search_tags_list:\n",
    "                if rem in tags:\n",
    "                    tags.remove(rem)\n",
    "            for add in replace_with_list:\n",
    "                if add not in tags:\n",
    "                    tags.append(add)\n",
    "            for new in replace_new_list:\n",
    "                if new_becomes_activation_tag:\n",
    "                    if new in tags:\n",
    "                        tags.remove(new)\n",
    "                    tags.insert(0, new)\n",
    "                else:\n",
    "                    if new not in tags:\n",
    "                        tags.append(new)\n",
    "\n",
    "        for act in activation_tag_list:\n",
    "            if act in tags:\n",
    "                tags.remove(act)\n",
    "            tags.insert(0, act)\n",
    "\n",
    "        with open(os.path.join(images_folder, txt), \"w\") as f:\n",
    "            f.write(\", \".join(tags))\n",
    "\n",
    "    if global_activation_tag:\n",
    "        print(f\"\\n📎 Applied new activation tag(s): {', '.join(activation_tag_list)}\")\n",
    "    if remove_tags:\n",
    "        print(f\"\\n🚮 Removed {remove_count} tags.\")\n",
    "    if search_tags:\n",
    "        print(f\"\\n💫 Replaced in {replace_count} files.\")\n",
    "    print(\"\\n✅ Done! Check your updated tags in the Extras below.\")\n",
    "\n",
    "proceed5_btn.on_click(proceed_step_5)"
   ]
  },
  {
   "cell_type": "code",
   "execution_count": null,
   "metadata": {
    "cellView": "form",
    "id": "HuJB7BGAyZCw"
   },
   "outputs": [],
   "source": [
    "#@markdown ### 6️⃣ Ready\n",
    "#@markdown You should be ready to [train your Lora](https://colab.research.google.com/github/hollowstrawberry/kohya-colab/blob/main/Lora_Trainer.ipynb)!\n",
    "\n",
    "from IPython.display import Markdown, display\n",
    "display(Markdown(f\"### 🦀 [Click here to open the Lora trainer](https://colab.research.google.com/github/hollowstrawberry/kohya-colab/blob/main/Lora_Trainer.ipynb)\"))\n"
   ]
  },
  {
   "cell_type": "markdown",
   "metadata": {
    "id": "gDB9GXRONfiU"
   },
   "source": [
    "## *️⃣ Extras"
   ]
  },
  {
   "cell_type": "code",
   "execution_count": null,
   "metadata": {
    "cellView": "form",
    "id": "xEsqOglcc6hA"
   },
   "outputs": [],
   "source": [
    "if \"step1_installed_flag\" not in globals():\n",
    "  raise Exception(\"Please run step 1 first!\")\n",
    "  \n",
    "#@markdown ### 📈 Analyze Tags\n",
    "#@markdown Perhaps you need another look at your dataset.\n",
    "show_top_tags = 50 #@param {type:\"number\"}\n",
    "\n",
    "from collections import Counter\n",
    "top_tags = Counter()\n",
    "\n",
    "for txt in [f for f in os.listdir(images_folder) if f.lower().endswith(\".txt\")]:\n",
    "  with open(os.path.join(images_folder, txt), 'r') as f:\n",
    "    top_tags.update([s.strip() for s in f.read().split(\",\")])\n",
    "\n",
    "top_tags = Counter(top_tags)\n",
    "print(f\"📊 Top {show_top_tags} tags:\")\n",
    "for k, v in top_tags.most_common(show_top_tags):\n",
    "  print(f\"{k} ({v})\")"
   ]
  },
  {
   "cell_type": "code",
   "execution_count": null,
   "metadata": {
    "cellView": "form",
    "id": "x56xQYwuOz2V"
   },
   "outputs": [],
   "source": [
    "#@markdown ### 📂 Unzip dataset\n",
    "#@markdown It's much slower to upload individual files to your Drive, so you may want to upload a zip if you have your dataset in your computer.\n",
    "zip = \"/content/drive/MyDrive/Loras/example.zip\" #@param {type:\"string\"}\n",
    "extract_to = \"/content/drive/MyDrive/Loras/example/dataset\" #@param {type:\"string\"}\n",
    "\n",
    "import os, zipfile\n",
    "\n",
    "if not os.path.exists('/content/drive'):\n",
    "  from google.colab import drive\n",
    "  print(\"📂 Connecting to Google Drive...\")\n",
    "  drive.mount('/content/drive')\n",
    "\n",
    "os.makedirs(extract_to, exist_ok=True)\n",
    "\n",
    "with zipfile.ZipFile(zip, 'r') as f:\n",
    "  f.extractall(extract_to)\n",
    "\n",
    "print(\"✅ Done\")\n"
   ]
  },
  {
   "cell_type": "code",
   "execution_count": null,
   "metadata": {
    "cellView": "form",
    "id": "dLetTcLVOvAE"
   },
   "outputs": [],
   "source": [
    "#@markdown ### 🔢 Count datasets\n",
    "#@markdown Google Drive makes it impossible to count the files in a folder, so this will show you the file counts in all folders and subfolders.\n",
    "folder = \"/content/drive/MyDrive/Loras\" #@param {type:\"string\"}\n",
    "\n",
    "import os\n",
    "from google.colab import drive\n",
    "\n",
    "if not os.path.exists('/content/drive'):\n",
    "    print(\"📂 Connecting to Google Drive...\\n\")\n",
    "    drive.mount('/content/drive')\n",
    "\n",
    "tree = {}\n",
    "exclude = (\"_logs\", \"/output\")\n",
    "for i, (root, dirs, files) in enumerate(os.walk(folder, topdown=True)):\n",
    "  dirs[:] = [d for d in dirs if all(ex not in d for ex in exclude)]\n",
    "  images = len([f for f in files if f.lower().endswith((\".png\", \".jpg\", \".jpeg\"))])\n",
    "  captions = len([f for f in files if f.lower().endswith(\".txt\")])\n",
    "  others = len(files) - images - captions\n",
    "  path = root[folder.rfind(\"/\")+1:]\n",
    "  tree[path] = None if not images else f\"{images:>4} images | {captions:>4} captions |\"\n",
    "  if tree[path] and others:\n",
    "    tree[path] += f\" {others:>4} other files\"\n",
    "\n",
    "pad = max(len(k) for k in tree)\n",
    "print(\"\\n\".join(f\"📁{k.ljust(pad)} | {v}\" for k, v in tree.items() if v))\n"
   ]
  },
  {
   "cell_type": "code",
   "execution_count": null,
   "metadata": {},
   "outputs": [],
   "source": [
    "if \"step1_installed_flag\" not in globals():\n",
    "  raise Exception(\"Please run step 1 first!\")\n",
    "\n",
    "from PIL import Image\n",
    "import os\n",
    "Image.MAX_IMAGE_PIXELS = None\n",
    "\n",
    "#@markdown ### 🖼️ Reduce dataset filesize\n",
    "#@markdown This will convert all images in the project folder to jpeg, reducing filesize without affecting quality too much. This can also solve some errors.\n",
    "location = images_folder\n",
    "\n",
    "for dir in [d[0] for d in os.walk(location)]:\n",
    "    os.chdir(dir)\n",
    "    converted = False\n",
    "    for file_name in list(os.listdir(\".\")):\n",
    "        try:\n",
    "            # Convert png to jpeg\n",
    "            if file_name.endswith(\".png\"):\n",
    "                if not converted:\n",
    "                    print(f\"Converting {dir}\")\n",
    "                    converted = True\n",
    "                im = Image.open(file_name)\n",
    "                im = im.convert(\"RGB\")\n",
    "                new_file_name = os.path.splitext(file_name)[0] + \".jpeg\"\n",
    "                im.save(new_file_name, quality=95)\n",
    "                os.remove(file_name)\n",
    "                file_name = new_file_name\n",
    "            # Resize large jpegs\n",
    "            if file_name.endswith((\".jpeg\", \".jpg\")) and os.path.getsize(file_name) > 2000000:\n",
    "                if not converted:\n",
    "                    print(f\"Converting {dir}\")\n",
    "                    converted = True\n",
    "                im = Image.open(file_name)\n",
    "                im = im.resize((int(im.width/2), int(im.height/2)))\n",
    "                im.save(file_name, quality=95)\n",
    "            # Rename jpg to jpeg\n",
    "            if file_name.endswith(\".jpg\"):\n",
    "                if not converted:\n",
    "                    print(f\"Converting {dir}\")\n",
    "                new_file_name = os.path.splitext(file_name)[0] + \".jpeg\"\n",
    "                os.rename(file_name, new_file_name)\n",
    "        except Exception as e:\n",
    "            print(f\"An error occurred while processing {file_name}: {e}\")\n",
    "    if converted:\n",
    "        print(f\"Converted {dir}\")\n"
   ]
  },
  {
   "cell_type": "code",
   "execution_count": null,
   "metadata": {
    "cellView": "form",
    "id": "y6PKW-LIr214"
   },
   "outputs": [],
   "source": [
    "if \"step1_installed_flag\" not in globals():\n",
    "  raise Exception(\"Please run step 1 first!\")\n",
    "  \n",
    "#@markdown ### 🚮 Clean folder\n",
    "#@markdown Careful! Deletes all non-image files in the project folder.\n",
    "\n",
    "!find {images_folder} -type f ! \\( -name '*.png' -o -name '*.jpg' -o -name '*.jpeg' \\) -delete\n"
   ]
  }
 ],
 "metadata": {
  "accelerator": "GPU",
  "colab": {
   "provenance": []
  },
  "gpuClass": "standard",
  "kernelspec": {
   "display_name": "Python 3 (ipykernel)",
   "language": "python",
   "name": "python3"
  },
  "language_info": {
   "codemirror_mode": {
    "name": "ipython",
    "version": 3
   },
   "file_extension": ".py",
   "mimetype": "text/x-python",
   "name": "python",
   "nbconvert_exporter": "python",
   "pygments_lexer": "ipython3",
   "version": "3.10.undefined"
  }
 },
 "nbformat": 4,
 "nbformat_minor": 4
}
