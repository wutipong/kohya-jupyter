{
 "cells": [
  {
   "cell_type": "markdown",
   "metadata": {
    "id": "rmCPmqFL6hCQ"
   },
   "source": [
    "# 🌟 XL Lora Trainer by Hollowstrawberry\n",
    "\n",
    "❗ **Colab Premium is recommended.** Ideally you'd be changing the runtime to an A100 and use the maximum batch size.  \n",
    "However you can still train for free if you load a diffusers model, it will just take much longer.  \n",
    "\n",
    "\n",
    "This colab is based on the work of [Kohya-ss](https://github.com/kohya-ss/sd-scripts) and [Linaqruf](https://github.com/Linaqruf/kohya-trainer). Thank you!"
   ]
  },
  {
   "cell_type": "markdown",
   "metadata": {
    "id": "vJ8clWTZEu-g"
   },
   "source": [
    "### ⭕ Disclaimer\n",
    "The purpose of this document is to research bleeding-edge technologies in the field of machine learning inference.  \n",
    "Please read and follow the [Google Colab guidelines](https://research.google.com/colaboratory/faq.html) and its [Terms of Service](https://research.google.com/colaboratory/tos_v3.html)."
   ]
  },
  {
   "cell_type": "markdown",
   "metadata": {
    "id": "dPQlB4djNm3C"
   },
   "source": [
    "| |GitHub|🇬🇧 English|🇪🇸 Spanish|\n",
    "|:--|:-:|:-:|:-:|\n",
    "| 🏠 **Homepage** | [![GitHub](https://raw.githubusercontent.com/hollowstrawberry/kohya-colab/main/assets/github.svg)](https://github.com/hollowstrawberry/kohya-colab) | | |\n",
    "| 📊 **Dataset Maker** | [![GitHub](https://raw.githubusercontent.com/hollowstrawberry/kohya-colab/main/assets/github.svg)](https://github.com/hollowstrawberry/kohya-colab/blob/main/Dataset_Maker.ipynb) | [![Open in Colab](https://raw.githubusercontent.com/hollowstrawberry/kohya-colab/main/assets/colab-badge.svg)](https://colab.research.google.com/github/hollowstrawberry/kohya-colab/blob/main/Dataset_Maker.ipynb) | [![Abrir en Colab](https://raw.githubusercontent.com/hollowstrawberry/kohya-colab/main/assets/colab-badge-spanish.svg)](https://colab.research.google.com/github/hollowstrawberry/kohya-colab/blob/main/Spanish_Dataset_Maker.ipynb) |\n",
    "| ⭐ **Lora Trainer** | [![GitHub](https://raw.githubusercontent.com/hollowstrawberry/kohya-colab/main/assets/github.svg)](https://github.com/hollowstrawberry/kohya-colab/blob/main/Lora_Trainer.ipynb) | [![Open in Colab](https://raw.githubusercontent.com/hollowstrawberry/kohya-colab/main/assets/colab-badge.svg)](https://colab.research.google.com/github/hollowstrawberry/kohya-colab/blob/main/Lora_Trainer.ipynb) | [![Abrir en Colab](https://raw.githubusercontent.com/hollowstrawberry/kohya-colab/main/assets/colab-badge-spanish.svg)](https://colab.research.google.com/github/hollowstrawberry/kohya-colab/blob/main/Spanish_Lora_Trainer.ipynb) |\n",
    "| 🌟 **XL Lora Trainer** | [![GitHub](https://raw.githubusercontent.com/hollowstrawberry/kohya-colab/main/assets/github.svg)](https://github.com/hollowstrawberry/kohya-colab/blob/main/Lora_Trainer_XL.ipynb) | [![Open in Colab](https://raw.githubusercontent.com/hollowstrawberry/kohya-colab/main/assets/colab-badge.svg)](https://colab.research.google.com/github/hollowstrawberry/kohya-colab/blob/main/Lora_Trainer_XL.ipynb) |  |"
   ]
  },
  {
   "cell_type": "code",
   "execution_count": 6,
   "metadata": {
    "cellView": "form",
    "colab": {
     "base_uri": "https://localhost:8080/",
     "height": 1000
    },
    "id": "OglZzI_ujZq-",
    "outputId": "e8af5902-6785-4d01-d6f6-9c1559e3a6c3"
   },
   "outputs": [
    {
     "data": {
      "application/vnd.jupyter.widget-view+json": {
       "model_id": "757dbbf263b04bd280da13b7a3964062",
       "version_major": 2,
       "version_minor": 0
      },
      "text/plain": [
       "HTML(value='<h1>🚩 Start Here</h1>')"
      ]
     },
     "metadata": {},
     "output_type": "display_data"
    },
    {
     "data": {
      "application/vnd.jupyter.widget-view+json": {
       "model_id": "4d5b29e6571c4cc49f1c1eede506d41a",
       "version_major": 2,
       "version_minor": 0
      },
      "text/plain": [
       "HTML(value='<h2>▶️ Setup</h2>')"
      ]
     },
     "metadata": {},
     "output_type": "display_data"
    },
    {
     "data": {
      "application/vnd.jupyter.widget-view+json": {
       "model_id": "1093ed29ea8240c2997e31a0fa952e39",
       "version_major": 2,
       "version_minor": 0
      },
      "text/plain": [
       "Label(value=\"Your project name will be the same as the folder containing your images. Spaces aren't allowed.\")"
      ]
     },
     "metadata": {},
     "output_type": "display_data"
    },
    {
     "data": {
      "application/vnd.jupyter.widget-view+json": {
       "model_id": "94c72b77b0354d928b97678bfd6362d7",
       "version_major": 2,
       "version_minor": 0
      },
      "text/plain": [
       "Text(value='', description='Project name:')"
      ]
     },
     "metadata": {},
     "output_type": "display_data"
    },
    {
     "data": {
      "application/vnd.jupyter.widget-view+json": {
       "model_id": "c3eb62a406d74c6aa146c05db9fd37d0",
       "version_major": 2,
       "version_minor": 0
      },
      "text/plain": [
       "Label(value=\"The folder structure doesn't matter and is purely for comfort. Make sure to always pick the same …"
      ]
     },
     "metadata": {},
     "output_type": "display_data"
    },
    {
     "data": {
      "application/vnd.jupyter.widget-view+json": {
       "model_id": "3705130c418c49afa15086f3bf0867cc",
       "version_major": 2,
       "version_minor": 0
      },
      "text/plain": [
       "Dropdown(description='Folder structure:', index=1, options=('Organize by category (MyDrive/lora_training/datas…"
      ]
     },
     "metadata": {},
     "output_type": "display_data"
    },
    {
     "data": {
      "application/vnd.jupyter.widget-view+json": {
       "model_id": "f026f3bda1774addae29d2054deb7a77",
       "version_major": 2,
       "version_minor": 0
      },
      "text/plain": [
       "Label(value=' Decide the model that will be downloaded and used for training. You can also choose your own by …"
      ]
     },
     "metadata": {},
     "output_type": "display_data"
    },
    {
     "data": {
      "application/vnd.jupyter.widget-view+json": {
       "model_id": "96a3e5c85b0e47db941fb72e5717c0ec",
       "version_major": 2,
       "version_minor": 0
      },
      "text/plain": [
       "Dropdown(description='Training model:', options=('Pony Diffusion V6 XL', 'Animagine XL V3', 'Stable Diffusion …"
      ]
     },
     "metadata": {},
     "output_type": "display_data"
    },
    {
     "data": {
      "application/vnd.jupyter.widget-view+json": {
       "model_id": "8f726c2686734863b4c5f93d7ea1fff5",
       "version_major": 2,
       "version_minor": 0
      },
      "text/plain": [
       "Text(value='', description='Optional: custom training model url')"
      ]
     },
     "metadata": {},
     "output_type": "display_data"
    },
    {
     "data": {
      "application/vnd.jupyter.widget-view+json": {
       "model_id": "dda2a961039e471b915b9f6ffd4f2633",
       "version_major": 2,
       "version_minor": 0
      },
      "text/plain": [
       "Label(value='Using a diffusers model utilizes less resources. The 3 options above will work with or without di…"
      ]
     },
     "metadata": {},
     "output_type": "display_data"
    },
    {
     "data": {
      "application/vnd.jupyter.widget-view+json": {
       "model_id": "1436c435ce2947c98564fb1bb54eb1fe",
       "version_major": 2,
       "version_minor": 0
      },
      "text/plain": [
       "Checkbox(value=True, description='Load diffusers', indent=False)"
      ]
     },
     "metadata": {},
     "output_type": "display_data"
    },
    {
     "data": {
      "application/vnd.jupyter.widget-view+json": {
       "model_id": "20ba2b7f289b4b78be6583889504acab",
       "version_major": 2,
       "version_minor": 0
      },
      "text/plain": [
       "Label(value='Use wandb if you want to visualize the progress of your training over time.')"
      ]
     },
     "metadata": {},
     "output_type": "display_data"
    },
    {
     "data": {
      "application/vnd.jupyter.widget-view+json": {
       "model_id": "198b5d03b7684f6f8caa695bc56d13d6",
       "version_major": 2,
       "version_minor": 0
      },
      "text/plain": [
       "Text(value='', description='Wandb key:')"
      ]
     },
     "metadata": {},
     "output_type": "display_data"
    }
   ],
   "source": [
    "import os\n",
    "import re\n",
    "import toml\n",
    "from time import time\n",
    "from huggingface_hub import HfFileSystem\n",
    "from IPython.display import Markdown, display\n",
    "import ipywidgets as widgets\n",
    "\n",
    "# These carry information from past executions\n",
    "if \"model_url\" in globals():\n",
    "  old_model_url = model_url\n",
    "else:\n",
    "  old_model_url = None\n",
    "if \"dependencies_installed\" not in globals():\n",
    "  dependencies_installed = False\n",
    "if \"model_file\" not in globals():\n",
    "  model_file = None\n",
    "\n",
    "# These may be set by other cells, some are legacy\n",
    "if \"custom_dataset\" not in globals():\n",
    "  custom_dataset = None\n",
    "if \"override_dataset_config_file\" not in globals():\n",
    "  override_dataset_config_file = None\n",
    "if \"override_config_file\" not in globals():\n",
    "  override_config_file = None  \n",
    "\n",
    "COLAB = False\n",
    "SOURCE = \"https://github.com/qaneel/kohya-trainer\"\n",
    "COMMIT = None\n",
    "BETTER_EPOCH_NAMES = True\n",
    "LOAD_TRUNCATED_IMAGES = True\n",
    "try:\n",
    "  LOWRAM = int(next(line.split()[1] for line in open('/proc/meminfo') if \"MemTotal\" in line)) / (1024**2) < 15\n",
    "except:\n",
    "  LOWRAM = False\n",
    "\n",
    "display(\n",
    "    widgets.HTML(\"<h1>🚩 Start Here</h1>\"),\n",
    ")\n",
    "\n",
    "project_name_widget = widgets.Text(description='Project name:')\n",
    "folder_structure_widget = widgets.Dropdown(\n",
    "    options=[\n",
    "        \"Organize by category (MyDrive/lora_training/datasets/project_name)\", \n",
    "        \"Organize by project (MyDrive/Loras/project_name/dataset)\"\n",
    "    ],\n",
    "    value=\"Organize by project (MyDrive/Loras/project_name/dataset)\",\n",
    "    description='Folder structure:',\n",
    "    disabled=False,\n",
    ")\n",
    "\n",
    "training_model_widget = widgets.Dropdown(\n",
    "    options=[\"Pony Diffusion V6 XL\", \"Animagine XL V3\", \"Stable Diffusion XL 1.0 base\"],\n",
    "    value=\"Pony Diffusion V6 XL\",\n",
    "    description='Training model:',\n",
    "    disabled=False,\n",
    ")\n",
    "\n",
    "optional_custom_training_model_url_widget = widgets.Text(\n",
    "    description = 'Optional: custom training model url'\n",
    ")\n",
    "\n",
    "load_diffusers_widget = widgets.Checkbox(\n",
    "    value=True,\n",
    "    description='Load diffusers',\n",
    "    disabled=False,\n",
    "    indent=False\n",
    ")\n",
    "\n",
    "wandb_key_widget = widgets.Text(description='Wandb key:')\n",
    "\n",
    "display(\n",
    "    widgets.HTML(\"<h2>▶️ Setup</h2>\"),\n",
    "    widgets.Label(\"Your project name will be the same as the folder containing your images. Spaces aren't allowed.\"),\n",
    "    project_name_widget,\n",
    "    widgets.Label(\"The folder structure doesn't matter and is purely for comfort. Make sure to always pick the same one. I like organizing by project.\"),\n",
    "    folder_structure_widget,\n",
    "    widgets.Label(\" Decide the model that will be downloaded and used for training. You can also choose your own by pasting its download link.\"),\n",
    "    training_model_widget,\n",
    "    optional_custom_training_model_url_widget,\n",
    "    widgets.Label(\"Using a diffusers model utilizes less resources. The 3 options above will work with or without diffusers.\"),\n",
    "    load_diffusers_widget,\n",
    "    widgets.Label(\"Use wandb if you want to visualize the progress of your training over time.\"),\n",
    "    wandb_key_widget\n",
    ")\n"
   ]
  },
  {
   "cell_type": "code",
   "execution_count": 27,
   "metadata": {
    "cellView": "form",
    "colab": {
     "base_uri": "https://localhost:8080/",
     "height": 1000
    },
    "id": "OglZzI_ujZq-",
    "outputId": "e8af5902-6785-4d01-d6f6-9c1559e3a6c3"
   },
   "outputs": [],
   "source": [
    "project_name = project_name_widget.value\n",
    "project_name = project_name.strip()\n",
    "\n",
    "folder_structure = folder_structure_widget.value\n",
    "training_model = training_model_widget.value\n",
    "optional_custom_training_model_url = optional_custom_training_model_url_widget.value\n",
    "load_diffusers = load_diffusers_widget.value\n",
    "wandb_key = wandb_key_widget.value\n",
    "\n",
    "if optional_custom_training_model_url:\n",
    "  model_url = optional_custom_training_model_url\n",
    "elif \"Pony\" in training_model:\n",
    "  if load_diffusers:\n",
    "    model_url = \"https://huggingface.co/hollowstrawberry/67AB2F\"\n",
    "  else:\n",
    "    model_url = \"https://civitai.com/api/download/models/290640\"\n",
    "  model_file = \"/content/ponyDiffusionV6XL.safetensors\"\n",
    "elif \"Animagine\" in training_model:\n",
    "  if load_diffusers:\n",
    "    model_url = \"https://huggingface.co/cagliostrolab/animagine-xl-3.0\"\n",
    "  else:\n",
    "    model_url = \"https://civitai.com/api/download/models/293564\"\n",
    "  model_file = \"/content/animagineXLV3.safetensors\"\n",
    "else:\n",
    "  if load_diffusers:\n",
    "    model_url = \"https://huggingface.co/stabilityai/stable-diffusion-xl-base-1.0/\"\n",
    "  else:\n",
    "    model_url = \"https://huggingface.co/stabilityai/stable-diffusion-xl-base-1.0/resolve/main/sd_xl_base_1.0.safetensors\"\n",
    "\n",
    "if load_diffusers:\n",
    "  vae_file= \"stabilityai/sdxl-vae\"\n",
    "else:\n",
    "  vae_url = \"https://huggingface.co/stabilityai/sdxl-vae/resolve/main/sdxl_vae.safetensors\"\n",
    "  vae_file = \"/content/sdxl_vae.safetensors\""
   ]
  },
  {
   "cell_type": "code",
   "execution_count": 4,
   "metadata": {},
   "outputs": [
    {
     "data": {
      "application/vnd.jupyter.widget-view+json": {
       "model_id": "1b680a0520334158bd65e1e45883aea1",
       "version_major": 2,
       "version_minor": 0
      },
      "text/plain": [
       "HTML(value='<h2> ▶️ Processing </h2>')"
      ]
     },
     "metadata": {},
     "output_type": "display_data"
    },
    {
     "data": {
      "application/vnd.jupyter.widget-view+json": {
       "model_id": "ca904e7c95f64afba1506ad86163ff9e",
       "version_major": 2,
       "version_minor": 0
      },
      "text/plain": [
       "BoundedIntText(value=1024, description='Resolution:', max=1536, min=768, step=128)"
      ]
     },
     "metadata": {},
     "output_type": "display_data"
    },
    {
     "data": {
      "application/vnd.jupyter.widget-view+json": {
       "model_id": "5546ba5d14c04661a11fff242a0b265f",
       "version_major": 2,
       "version_minor": 0
      },
      "text/plain": [
       "Text(value='.txt', description='Caption extension')"
      ]
     },
     "metadata": {},
     "output_type": "display_data"
    },
    {
     "data": {
      "application/vnd.jupyter.widget-view+json": {
       "model_id": "4c8a887827164a03b91bcc57ea814187",
       "version_major": 2,
       "version_minor": 0
      },
      "text/plain": [
       "Label(value='Shuffling anime tags in place improves learning and prompting. An activation tag goes at the star…"
      ]
     },
     "metadata": {},
     "output_type": "display_data"
    },
    {
     "data": {
      "application/vnd.jupyter.widget-view+json": {
       "model_id": "974b981b53664b418c685cbb5d877f06",
       "version_major": 2,
       "version_minor": 0
      },
      "text/plain": [
       "Checkbox(value=True, description='Shuffle tags', indent=False)"
      ]
     },
     "metadata": {},
     "output_type": "display_data"
    },
    {
     "data": {
      "application/vnd.jupyter.widget-view+json": {
       "model_id": "d3819e3b44ef4855abbf4843e5a21937",
       "version_major": 2,
       "version_minor": 0
      },
      "text/plain": [
       "Dropdown(description='Activation tags:', index=1, options=('0', '1', '2', '3'), value='1')"
      ]
     },
     "metadata": {},
     "output_type": "display_data"
    }
   ],
   "source": [
    "display(widgets.HTML('<h2> ▶️ Processing </h2>'))\n",
    "\n",
    "resolution_widget = widgets.BoundedIntText(\n",
    "    value=1024,\n",
    "    min=768,\n",
    "    max=1536,\n",
    "    step=128,\n",
    "    description='Resolution:',\n",
    "    disabled=False\n",
    ")\n",
    "\n",
    "caption_extension_widget = widgets.Text(\n",
    "    value=\".txt\",\n",
    "    description=\"Caption extension\"\n",
    ")\n",
    "\n",
    "shuffle_tags_widget = widgets.Checkbox(\n",
    "    value=True,\n",
    "    description='Shuffle tags',\n",
    "    disabled=False,\n",
    "    indent=False\n",
    ")\n",
    "\n",
    "activation_tags_widget = widgets.Dropdown(\n",
    "    options= ['0', '1' , '2' ,'3'],\n",
    "    value='1',\n",
    "    description='Activation tags:',\n",
    "    disabled=False,\n",
    ")\n",
    "\n",
    "display(\n",
    "    resolution_widget,\n",
    "    caption_extension_widget,\n",
    "    widgets.Label('Shuffling anime tags in place improves learning and prompting. An activation tag goes at the start of every text file and will not be shuffled.'),\n",
    "    shuffle_tags_widget,\n",
    "    activation_tags_widget,\n",
    ")"
   ]
  },
  {
   "cell_type": "code",
   "execution_count": null,
   "metadata": {
    "cellView": "form",
    "colab": {
     "base_uri": "https://localhost:8080/",
     "height": 1000
    },
    "id": "OglZzI_ujZq-",
    "outputId": "e8af5902-6785-4d01-d6f6-9c1559e3a6c3"
   },
   "outputs": [],
   "source": [
    "resolution = resolution_widget.value\n",
    "caption_extension = caption_extension_widget.value\n",
    "\n",
    "shuffle_tags = shuffle_tags_widget.value\n",
    "shuffle_caption = shuffle_tags\n",
    "activation_tags = activation_tags_widget.value\n",
    "keep_tokens = int(activation_tags)"
   ]
  },
  {
   "cell_type": "code",
   "execution_count": 11,
   "metadata": {},
   "outputs": [
    {
     "data": {
      "application/vnd.jupyter.widget-view+json": {
       "model_id": "382f6f1c7f284dc6b7f6120bd4eb42a3",
       "version_major": 2,
       "version_minor": 0
      },
      "text/plain": [
       "HTML(value='<h2>▶️ Steps</h2>')"
      ]
     },
     "metadata": {},
     "output_type": "display_data"
    },
    {
     "data": {
      "application/vnd.jupyter.widget-view+json": {
       "model_id": "661f2610883b4a60b3d5e53b805d1283",
       "version_major": 2,
       "version_minor": 0
      },
      "text/plain": [
       "Label(value='Your images will repeat this number of times during training. I recommend that your images multip…"
      ]
     },
     "metadata": {},
     "output_type": "display_data"
    },
    {
     "data": {
      "application/vnd.jupyter.widget-view+json": {
       "model_id": "d8c71c0e3b684c0ea216f5a939feb87c",
       "version_major": 2,
       "version_minor": 0
      },
      "text/plain": [
       "IntText(value=2, description='# repeats:')"
      ]
     },
     "metadata": {},
     "output_type": "display_data"
    },
    {
     "data": {
      "application/vnd.jupyter.widget-view+json": {
       "model_id": "8613024957ce475eaa45258116e74949",
       "version_major": 2,
       "version_minor": 0
      },
      "text/plain": [
       "Label(value='Choose how long you want to train for. A good starting point is around 10 epochs or around 2000 s…"
      ]
     },
     "metadata": {},
     "output_type": "display_data"
    },
    {
     "data": {
      "application/vnd.jupyter.widget-view+json": {
       "model_id": "59619b173c19477dac8b1f3d2b9339d3",
       "version_major": 2,
       "version_minor": 0
      },
      "text/plain": [
       "Label(value='One epoch is a number of steps equal to: your number of images multiplied by their repeats, divid…"
      ]
     },
     "metadata": {},
     "output_type": "display_data"
    },
    {
     "data": {
      "application/vnd.jupyter.widget-view+json": {
       "model_id": "c9229c57c3a94eaa8a621024a1a48839",
       "version_major": 2,
       "version_minor": 0
      },
      "text/plain": [
       "RadioButtons(description='Preferred unit', options=('Epochs', 'Steps'), value='Epochs')"
      ]
     },
     "metadata": {},
     "output_type": "display_data"
    },
    {
     "data": {
      "application/vnd.jupyter.widget-view+json": {
       "model_id": "93f784b6bf834e1e8da0fbd8acb56016",
       "version_major": 2,
       "version_minor": 0
      },
      "text/plain": [
       "IntText(value=10, description='How many:')"
      ]
     },
     "metadata": {},
     "output_type": "display_data"
    },
    {
     "data": {
      "application/vnd.jupyter.widget-view+json": {
       "model_id": "7759c4cc070a4096abdd64fdd204a20c",
       "version_major": 2,
       "version_minor": 0
      },
      "text/plain": [
       "Label(value=\"Saving more epochs will let you compare your Lora's progress better.\")"
      ]
     },
     "metadata": {},
     "output_type": "display_data"
    },
    {
     "data": {
      "application/vnd.jupyter.widget-view+json": {
       "model_id": "4b57bd7efe8c473a9a5abbf51d388a41",
       "version_major": 2,
       "version_minor": 0
      },
      "text/plain": [
       "IntText(value=1, description='Saving every N epochs:')"
      ]
     },
     "metadata": {},
     "output_type": "display_data"
    },
    {
     "data": {
      "application/vnd.jupyter.widget-view+json": {
       "model_id": "ec43d1ee7c644f938fd29c83278791bb",
       "version_major": 2,
       "version_minor": 0
      },
      "text/plain": [
       "IntText(value=10, description='Keep only last N epochs:')"
      ]
     },
     "metadata": {},
     "output_type": "display_data"
    }
   ],
   "source": [
    "display(widgets.HTML('<h2>▶️ Steps</h2>'))\n",
    "\n",
    "num_repeats_widget = widgets.IntText(\n",
    "    value=2,\n",
    "    description='# repeats:',\n",
    "    disabled=False\n",
    ")\n",
    "\n",
    "preferred_unit_widget = widgets.RadioButtons(\n",
    "    options=[\"Epochs\", \"Steps\"],\n",
    "    value='Epochs', \n",
    "    description='Preferred unit',\n",
    "    disabled=False\n",
    ")\n",
    "\n",
    "how_many_widget = widgets.IntText(\n",
    "    value=10,\n",
    "    description='How many:',\n",
    "    disabled=False\n",
    ")\n",
    "\n",
    "save_every_n_epochs_widget = widgets.IntText(\n",
    "    value=1,\n",
    "    description='Saving every N epochs:',\n",
    "    disabled=False\n",
    ")\n",
    "\n",
    "keep_only_last_n_epochs_widget = widgets.IntText(\n",
    "    value=10,\n",
    "    description='Keep only last N epochs:',\n",
    "    disabled=False\n",
    ")\n",
    "\n",
    "display(\n",
    "    widgets.Label('Your images will repeat this number of times during training. I recommend that your images multiplied by their repeats is between 200 and 400.'),\n",
    "    num_repeats_widget,\n",
    "    widgets.Label('Choose how long you want to train for. A good starting point is around 10 epochs or around 2000 steps.'),\n",
    "    widgets.Label('One epoch is a number of steps equal to: your number of images multiplied by their repeats, divided by batch size.'),\n",
    "    preferred_unit_widget,\n",
    "    how_many_widget,\n",
    "    widgets.Label(\"Saving more epochs will let you compare your Lora's progress better.\"),\n",
    "    save_every_n_epochs_widget,\n",
    "    keep_only_last_n_epochs_widget,\n",
    ")"
   ]
  },
  {
   "cell_type": "code",
   "execution_count": 12,
   "metadata": {
    "cellView": "form",
    "colab": {
     "base_uri": "https://localhost:8080/",
     "height": 1000
    },
    "id": "OglZzI_ujZq-",
    "outputId": "e8af5902-6785-4d01-d6f6-9c1559e3a6c3"
   },
   "outputs": [],
   "source": [
    "num_repeats = num_repeats_widget.value\n",
    "preferred_unit = preferred_unit_widget.value\n",
    "how_many = how_many_widget.value\n",
    "\n",
    "max_train_epochs = how_many if preferred_unit == \"Epochs\" else None\n",
    "max_train_steps = how_many if preferred_unit == \"Steps\" else None\n",
    "\n",
    "save_every_n_epochs = save_every_n_epochs_widget.value\n",
    "keep_only_last_n_epochs = keep_only_last_n_epochs_widget.value\n",
    "\n",
    "if not save_every_n_epochs:\n",
    "  save_every_n_epochs = max_train_epochs\n",
    "if not keep_only_last_n_epochs:\n",
    "  keep_only_last_n_epochs = max_train_epochs"
   ]
  },
  {
   "cell_type": "code",
   "execution_count": 19,
   "metadata": {},
   "outputs": [
    {
     "data": {
      "application/vnd.jupyter.widget-view+json": {
       "model_id": "8d90bd855d164501a52a9113787f0785",
       "version_major": 2,
       "version_minor": 0
      },
      "text/plain": [
       "HTML(value='<h2>▶️ Learning </h2>')"
      ]
     },
     "metadata": {},
     "output_type": "display_data"
    },
    {
     "data": {
      "application/vnd.jupyter.widget-view+json": {
       "model_id": "d6f2035907dd466084e666cb3cbdbe2e",
       "version_major": 2,
       "version_minor": 0
      },
      "text/plain": [
       "Label(value='The learning rate is the most important for your results. If you want to train slower with lots o…"
      ]
     },
     "metadata": {},
     "output_type": "display_data"
    },
    {
     "data": {
      "application/vnd.jupyter.widget-view+json": {
       "model_id": "3e9a58bbde0c40e89f326e223c640d8a",
       "version_major": 2,
       "version_minor": 0
      },
      "text/plain": [
       "Label(value=\"The text encoder helps your Lora learn concepts slightly better. It is recommended to make it hal…"
      ]
     },
     "metadata": {},
     "output_type": "display_data"
    },
    {
     "data": {
      "application/vnd.jupyter.widget-view+json": {
       "model_id": "ca7581c841704e03abea7ffc32cbe93c",
       "version_major": 2,
       "version_minor": 0
      },
      "text/plain": [
       "FloatText(value=0.0003, description='UNet LR:')"
      ]
     },
     "metadata": {},
     "output_type": "display_data"
    },
    {
     "data": {
      "application/vnd.jupyter.widget-view+json": {
       "model_id": "753dec3ca1aa463791cbb646cf6b84dd",
       "version_major": 2,
       "version_minor": 0
      },
      "text/plain": [
       "FloatText(value=6e-05, description='Text encoder LR:')"
      ]
     },
     "metadata": {},
     "output_type": "display_data"
    },
    {
     "data": {
      "application/vnd.jupyter.widget-view+json": {
       "model_id": "2a3e8f1070004bfab0b17ad5c29daa62",
       "version_major": 2,
       "version_minor": 0
      },
      "text/plain": [
       "Label(value=\"The scheduler is the algorithm that guides the learning rate. If you're not sure, pick `constant`…"
      ]
     },
     "metadata": {},
     "output_type": "display_data"
    },
    {
     "data": {
      "application/vnd.jupyter.widget-view+json": {
       "model_id": "8ff4e9cb2ead441fa86012782b3c0ad1",
       "version_major": 2,
       "version_minor": 0
      },
      "text/plain": [
       "Dropdown(description='LR Scheduler:', index=2, options=('constant', 'cosine', 'cosine_with_restarts', 'constan…"
      ]
     },
     "metadata": {},
     "output_type": "display_data"
    },
    {
     "data": {
      "application/vnd.jupyter.widget-view+json": {
       "model_id": "2c7b17757c724167b838ea982c02f004",
       "version_major": 2,
       "version_minor": 0
      },
      "text/plain": [
       "IntText(value=3, description='LR Scheduler #:')"
      ]
     },
     "metadata": {},
     "output_type": "display_data"
    },
    {
     "data": {
      "application/vnd.jupyter.widget-view+json": {
       "model_id": "d19c223096f5494caa0405075d486b84",
       "version_major": 2,
       "version_minor": 0
      },
      "text/plain": [
       "Label(value='Steps spent \"warming up\" the learning rate during training for efficiency. I recommend leaving it…"
      ]
     },
     "metadata": {},
     "output_type": "display_data"
    },
    {
     "data": {
      "application/vnd.jupyter.widget-view+json": {
       "model_id": "e0c1c53f9be545eaaa2ca6dab2bc29eb",
       "version_major": 2,
       "version_minor": 0
      },
      "text/plain": [
       "FloatSlider(value=0.05, continuous_update=False, description='LR Warmiup Ratio:', max=0.2, readout_format='.1f…"
      ]
     },
     "metadata": {},
     "output_type": "display_data"
    },
    {
     "data": {
      "application/vnd.jupyter.widget-view+json": {
       "model_id": "12cc9ef9c5a34c9ebe796c627e6719e3",
       "version_major": 2,
       "version_minor": 0
      },
      "text/plain": [
       "Label(value='Adjusts loss over time, makes learning much more efficient. The paper recommends 5.0, I recommend…"
      ]
     },
     "metadata": {},
     "output_type": "display_data"
    },
    {
     "data": {
      "application/vnd.jupyter.widget-view+json": {
       "model_id": "c65a54a1ff6c44249d0f353ba8ec5da8",
       "version_major": 2,
       "version_minor": 0
      },
      "text/plain": [
       "FloatSlider(value=8.0, continuous_update=False, description='Min SNR Gamma:', max=16.0, min=4.0, readout_forma…"
      ]
     },
     "metadata": {},
     "output_type": "display_data"
    },
    {
     "data": {
      "application/vnd.jupyter.widget-view+json": {
       "model_id": "c3299fc097884a2fb2d3c73ddb836a25",
       "version_major": 2,
       "version_minor": 0
      },
      "text/plain": [
       "Label(value='Multinoise may help with color balance (darker darks, lighter lights).')"
      ]
     },
     "metadata": {},
     "output_type": "display_data"
    },
    {
     "data": {
      "application/vnd.jupyter.widget-view+json": {
       "model_id": "2caf00dd34a949dd9499a9f44d97fc13",
       "version_major": 2,
       "version_minor": 0
      },
      "text/plain": [
       "Checkbox(value=True, description='Multinoise', indent=False)"
      ]
     },
     "metadata": {},
     "output_type": "display_data"
    }
   ],
   "source": [
    "unet_lr_widget = widgets.FloatText(\n",
    "    value=3e-4,\n",
    "    description='UNet LR:',\n",
    "    disabled=False\n",
    ")\n",
    "\n",
    "text_encoder_lr_widget = widgets.FloatText(\n",
    "    value=6e-5,\n",
    "    description='Text encoder LR:',\n",
    "    disabled=False\n",
    ")\n",
    "\n",
    "lr_scheduler_widget = widgets.Dropdown(\n",
    "    options=[\"constant\", \"cosine\", \"cosine_with_restarts\", \"constant_with_warmup\", \"linear\", \"polynomial\"],\n",
    "    value='cosine_with_restarts',\n",
    "    description='LR Scheduler:',\n",
    "    disabled=False,\n",
    ")\n",
    "\n",
    "lr_scheduler_number_widget = widgets.IntText(\n",
    "    value=3,\n",
    "    description='LR Scheduler #:',\n",
    "    disabled=False\n",
    ")\n",
    "\n",
    "lr_warmup_ratio_widget = widgets.FloatSlider(\n",
    "    value=0.05,\n",
    "    min=0,\n",
    "    max=0.2,\n",
    "    step=0.01,\n",
    "    description='LR Warmiup Ratio:',\n",
    "    disabled=False,\n",
    "    continuous_update=False,\n",
    "    orientation='horizontal',\n",
    "    readout=True,\n",
    "    readout_format='.1f',\n",
    ")\n",
    "\n",
    "min_snr_gamma_widget = widgets.FloatSlider(\n",
    "    value=8.0,\n",
    "    min=4,\n",
    "    max=16.0,\n",
    "    step=0.5,\n",
    "    description='Min SNR Gamma:',\n",
    "    disabled=False,\n",
    "    continuous_update=False,\n",
    "    orientation='horizontal',\n",
    "    readout=True,\n",
    "    readout_format='.1f',\n",
    ")\n",
    "\n",
    "multinoise_widget = widgets.Checkbox(\n",
    "    value=True,\n",
    "    description='Multinoise',\n",
    "    disabled=False,\n",
    "    indent=False\n",
    ")\n",
    "\n",
    "display(\n",
    "    widgets.HTML('<h2>▶️ Learning </h2>'),\n",
    "    widgets.Label('The learning rate is the most important for your results. If you want to train slower with lots of images, or if your dim and alpha are high, move the unet to 2e-4 or lower.'),\n",
    "    widgets.Label(\"The text encoder helps your Lora learn concepts slightly better. It is recommended to make it half or a fifth of the unet. If you're training a style you can even set it to 0.\"),\n",
    "    unet_lr_widget,\n",
    "    text_encoder_lr_widget,\n",
    "    widgets.Label(\"The scheduler is the algorithm that guides the learning rate. If you're not sure, pick `constant` and ignore the number. I personally recommend `cosine_with_restarts` with 3 restarts.\"),\n",
    "    lr_scheduler_widget,\n",
    "    lr_scheduler_number_widget,\n",
    "    widgets.Label('Steps spent \"warming up\" the learning rate during training for efficiency. I recommend leaving it at 5%.'),\n",
    "    lr_warmup_ratio_widget,\n",
    "    widgets.Label('Adjusts loss over time, makes learning much more efficient. The paper recommends 5.0, I recommend 8.0 for anime. Higher value makes it less strict. Set to 0 to disable.'),\n",
    "    min_snr_gamma_widget,\n",
    "    widgets.Label('Multinoise may help with color balance (darker darks, lighter lights).'),\n",
    "    multinoise_widget\n",
    ")"
   ]
  },
  {
   "cell_type": "code",
   "execution_count": 21,
   "metadata": {
    "cellView": "form",
    "colab": {
     "base_uri": "https://localhost:8080/",
     "height": 1000
    },
    "id": "OglZzI_ujZq-",
    "outputId": "e8af5902-6785-4d01-d6f6-9c1559e3a6c3"
   },
   "outputs": [],
   "source": [
    "unet_lr = unet_lr_widget.value\n",
    "text_encoder_lr = text_encoder_lr_widget.value\n",
    "\n",
    "lr_scheduler = lr_scheduler_widget.value\n",
    "lr_scheduler_number = lr_scheduler_number_widget.value\n",
    "\n",
    "lr_warmup_ratio = lr_warmup_ratio_widget.value\n",
    "lr_warmup_steps = 0\n",
    "\n",
    "min_snr_gamma = min_snr_gamma_widget.value\n",
    "\n",
    "multinoise = multinoise_widget.value"
   ]
  },
  {
   "cell_type": "code",
   "execution_count": 49,
   "metadata": {},
   "outputs": [
    {
     "data": {
      "application/vnd.jupyter.widget-view+json": {
       "model_id": "998adbd35f2d46c8863a596ab3adfddd",
       "version_major": 2,
       "version_minor": 0
      },
      "text/plain": [
       "HTML(value='<h2>▶️ Structure</h2>')"
      ]
     },
     "metadata": {},
     "output_type": "display_data"
    },
    {
     "data": {
      "application/vnd.jupyter.widget-view+json": {
       "model_id": "7a7b89e2fc154576bf9ae8c07dc60f2f",
       "version_major": 2,
       "version_minor": 0
      },
      "text/plain": [
       "RadioButtons(description='LoRA type:', options=('LoRA', 'LoCon'), value='LoRA')"
      ]
     },
     "metadata": {},
     "output_type": "display_data"
    },
    {
     "data": {
      "application/vnd.jupyter.widget-view+json": {
       "model_id": "e0f82c1359aa4a36812c5cc8a1276b3a",
       "version_major": 2,
       "version_minor": 0
      },
      "text/plain": [
       "Label(value='Below are some recommended XL values for the following settings:')"
      ]
     },
     "metadata": {},
     "output_type": "display_data"
    },
    {
     "data": {
      "application/vnd.jupyter.widget-view+json": {
       "model_id": "c0da1100d2a74fb08a67eb0b01deb61b",
       "version_major": 2,
       "version_minor": 0
      },
      "text/plain": [
       "HTML(value='\\n        <table>\\n            <thead>\\n                <tr>\\n                    <th>type</th>\\n …"
      ]
     },
     "metadata": {},
     "output_type": "display_data"
    },
    {
     "data": {
      "application/vnd.jupyter.widget-view+json": {
       "model_id": "f82fe96e9e3949f49998d467ed56e251",
       "version_major": 2,
       "version_minor": 0
      },
      "text/plain": [
       "Label(value=\"More dim means larger Lora, it can hold more information but more isn't always better.\")"
      ]
     },
     "metadata": {},
     "output_type": "display_data"
    },
    {
     "data": {
      "application/vnd.jupyter.widget-view+json": {
       "model_id": "7ceadda331ea432c80b9b9c229eacbcb",
       "version_major": 2,
       "version_minor": 0
      },
      "text/plain": [
       "IntSlider(value=8, continuous_update=False, description='network_dim:', max=32, min=1)"
      ]
     },
     "metadata": {},
     "output_type": "display_data"
    },
    {
     "data": {
      "application/vnd.jupyter.widget-view+json": {
       "model_id": "96119e365ce64a5b8e25942b9d7486eb",
       "version_major": 2,
       "version_minor": 0
      },
      "text/plain": [
       "IntSlider(value=4, continuous_update=False, description='network_alpha:', max=32, min=1)"
      ]
     },
     "metadata": {},
     "output_type": "display_data"
    },
    {
     "data": {
      "application/vnd.jupyter.widget-view+json": {
       "model_id": "03dc738f2e7444d6902e23f860b33c21",
       "version_major": 2,
       "version_minor": 0
      },
      "text/plain": [
       "Label(value='The following two values only apply to the additional layers of LoCon.')"
      ]
     },
     "metadata": {},
     "output_type": "display_data"
    },
    {
     "data": {
      "application/vnd.jupyter.widget-view+json": {
       "model_id": "0a2c74fcbf4a4963b43e9d26d8d162ae",
       "version_major": 2,
       "version_minor": 0
      },
      "text/plain": [
       "IntSlider(value=4, continuous_update=False, description='conv_dim:', max=32, min=1)"
      ]
     },
     "metadata": {},
     "output_type": "display_data"
    },
    {
     "data": {
      "application/vnd.jupyter.widget-view+json": {
       "model_id": "c380ddd4360e4655bf0d79b5b0738ee8",
       "version_major": 2,
       "version_minor": 0
      },
      "text/plain": [
       "IntSlider(value=1, continuous_update=False, description='conv_alpha:', max=32, min=1)"
      ]
     },
     "metadata": {},
     "output_type": "display_data"
    }
   ],
   "source": [
    "lora_type_widget = widgets.RadioButtons(\n",
    "    options=[\"LoRA\", \"LoCon\"],\n",
    "    value='LoRA',\n",
    "    description='LoRA type:',\n",
    "    disabled=False\n",
    ")\n",
    "\n",
    "network_dim_widget = widgets.IntSlider(\n",
    "    value=8,\n",
    "    min=1,\n",
    "    max=32,\n",
    "    step=1,\n",
    "    description='network_dim:',\n",
    "    disabled=False,\n",
    "    continuous_update=False,\n",
    "    orientation='horizontal',\n",
    "    readout=True,\n",
    "    readout_format='d'\n",
    ")\n",
    "\n",
    "network_alpha_widget = widgets.IntSlider(\n",
    "    value=4,\n",
    "    min=1,\n",
    "    max=32,\n",
    "    step=1,\n",
    "    description='network_alpha:',\n",
    "    disabled=False,\n",
    "    continuous_update=False,\n",
    "    orientation='horizontal',\n",
    "    readout=True,\n",
    "    readout_format='d'\n",
    ")\n",
    "\n",
    "conv_dim_widget = widgets.IntSlider(\n",
    "    value=4,\n",
    "    min=1,\n",
    "    max=32,\n",
    "    step=1,\n",
    "    description='conv_dim:',\n",
    "    disabled=False,\n",
    "    continuous_update=False,\n",
    "    orientation='horizontal',\n",
    "    readout=True,\n",
    "    readout_format='d'\n",
    ")\n",
    "\n",
    "conv_alpha_widget = widgets.IntSlider(\n",
    "    value=1,\n",
    "    min=1,\n",
    "    max=32,\n",
    "    step=1,\n",
    "    description='conv_alpha:',\n",
    "    disabled=False,\n",
    "    continuous_update=False,\n",
    "    orientation='horizontal',\n",
    "    readout=True,\n",
    "    readout_format='d'\n",
    ")\n",
    "\n",
    "display(\n",
    "    widgets.HTML('<h2>▶️ Structure</h2>'),\n",
    "    lora_type_widget,\n",
    "    widgets.Label('Below are some recommended XL values for the following settings:'),\n",
    "    widgets.HTML(\"\"\"\n",
    "        <table>\n",
    "            <thead>\n",
    "                <tr>\n",
    "                    <th>type</th>\n",
    "                    <th>network_dim</th>\n",
    "                    <th>network_alpha</th>\n",
    "                    <th>conv_dim</th>\n",
    "                    <th>conv_alpha</th>\n",
    "                </tr>\n",
    "            </thead>\n",
    "            <tbody>\n",
    "                <tr>\n",
    "                    <th>Regular LoRA</th>\n",
    "                    <td>8</td>\n",
    "                    <td>4</td>\n",
    "                    <td>-</td>\n",
    "                    <td>-</td>\n",
    "                </tr>\n",
    "                <tr>\n",
    "                    <th>Style LoCon</th>\n",
    "                    <td>16</td>\n",
    "                    <td>8</td>\n",
    "                    <td>16</td>\n",
    "                    <td>8<td>\n",
    "                </tr>\n",
    "            </tbody>\n",
    "        <table>\n",
    "    \"\"\"),\n",
    "    widgets.Label(\"More dim means larger Lora, it can hold more information but more isn't always better.\"),\n",
    "    network_dim_widget,\n",
    "    network_alpha_widget,\n",
    "    widgets.Label(\"The following two values only apply to the additional layers of LoCon.\"),\n",
    "    conv_dim_widget,\n",
    "    conv_alpha_widget,\n",
    ")\n"
   ]
  },
  {
   "cell_type": "code",
   "execution_count": 31,
   "metadata": {
    "cellView": "form",
    "colab": {
     "base_uri": "https://localhost:8080/",
     "height": 1000
    },
    "id": "OglZzI_ujZq-",
    "outputId": "e8af5902-6785-4d01-d6f6-9c1559e3a6c3"
   },
   "outputs": [],
   "source": [
    "lora_type = lora_type_widget.value\n",
    "\n",
    "network_dim = network_dim_widget.value\n",
    "network_alpha = network_alpha_widget.value\n",
    "\n",
    "conv_dim = conv_dim_widget.value\n",
    "conv_alpha = conv_alpha_widget.value\n",
    "\n",
    "network_module = \"networks.lora\"\n",
    "network_args = None\n",
    "if lora_type.lower() == \"locon\":\n",
    "  network_args = [f\"conv_dim={conv_dim}\", f\"conv_alpha={conv_alpha}\"]"
   ]
  },
  {
   "cell_type": "code",
   "execution_count": 39,
   "metadata": {},
   "outputs": [
    {
     "data": {
      "application/vnd.jupyter.widget-view+json": {
       "model_id": "c7a9f457009648d6a8343ae9231078c5",
       "version_major": 2,
       "version_minor": 0
      },
      "text/plain": [
       "HTML(value='<h2>▶️ Training</h2>')"
      ]
     },
     "metadata": {},
     "output_type": "display_data"
    },
    {
     "data": {
      "application/vnd.jupyter.widget-view+json": {
       "model_id": "3a7cf62ed5844dc3ac7bc3261bc3a8f9",
       "version_major": 2,
       "version_minor": 0
      },
      "text/plain": [
       "Label(value='Adjust these parameters depending on your colab configuration.')"
      ]
     },
     "metadata": {},
     "output_type": "display_data"
    },
    {
     "data": {
      "application/vnd.jupyter.widget-view+json": {
       "model_id": "244f324b545d4cf3ad531f4fe3088e8c",
       "version_major": 2,
       "version_minor": 0
      },
      "text/plain": [
       "Label(value=\"If you're using the free tier you should select a diffusers model at the top of this cell.\")"
      ]
     },
     "metadata": {},
     "output_type": "display_data"
    },
    {
     "data": {
      "application/vnd.jupyter.widget-view+json": {
       "model_id": "7c5cd5a1114c4b5b9c9664c024b1548b",
       "version_major": 2,
       "version_minor": 0
      },
      "text/plain": [
       "HTML(value='<hr>')"
      ]
     },
     "metadata": {},
     "output_type": "display_data"
    },
    {
     "data": {
      "application/vnd.jupyter.widget-view+json": {
       "model_id": "62319820da054b14af2ec5417b80bce4",
       "version_major": 2,
       "version_minor": 0
      },
      "text/plain": [
       "Label(value='Higher batch size is often faster but uses more memory.')"
      ]
     },
     "metadata": {},
     "output_type": "display_data"
    },
    {
     "data": {
      "application/vnd.jupyter.widget-view+json": {
       "model_id": "88424c6bc19f4d6b853cb39f73da5012",
       "version_major": 2,
       "version_minor": 0
      },
      "text/plain": [
       "IntSlider(value=4, continuous_update=False, description='Train batch size:', max=16, min=1)"
      ]
     },
     "metadata": {},
     "output_type": "display_data"
    },
    {
     "data": {
      "application/vnd.jupyter.widget-view+json": {
       "model_id": "d8d1434af643473eacb2090985fddf82",
       "version_major": 2,
       "version_minor": 0
      },
      "text/plain": [
       "Label(value='I have found no substantial difference between sdpa and xformers.')"
      ]
     },
     "metadata": {},
     "output_type": "display_data"
    },
    {
     "data": {
      "application/vnd.jupyter.widget-view+json": {
       "model_id": "d22e0739e238412db17d620b343f2d4f",
       "version_major": 2,
       "version_minor": 0
      },
      "text/plain": [
       "RadioButtons(description='Cross attention:', options=('sdpa', 'xformers'), value='sdpa')"
      ]
     },
     "metadata": {},
     "output_type": "display_data"
    },
    {
     "data": {
      "application/vnd.jupyter.widget-view+json": {
       "model_id": "e24487bfa16c4f3cb30b70907d550677",
       "version_major": 2,
       "version_minor": 0
      },
      "text/plain": [
       "Label(value=\"If you're on an A100 you should enable bf16.\")"
      ]
     },
     "metadata": {},
     "output_type": "display_data"
    },
    {
     "data": {
      "application/vnd.jupyter.widget-view+json": {
       "model_id": "6f65be8a358f4b3b93c13c020dfa6c16",
       "version_major": 2,
       "version_minor": 0
      },
      "text/plain": [
       "RadioButtons(description='Mixed precision:', index=1, options=('bf16', 'fp16'), value='fp16')"
      ]
     },
     "metadata": {},
     "output_type": "display_data"
    },
    {
     "data": {
      "application/vnd.jupyter.widget-view+json": {
       "model_id": "abf3e1faa6d0471fba000f818d87583a",
       "version_major": 2,
       "version_minor": 0
      },
      "text/plain": [
       "Label(value='Caching latents to drive will add a 250KB file next to each image but will use considerably less …"
      ]
     },
     "metadata": {},
     "output_type": "display_data"
    },
    {
     "data": {
      "application/vnd.jupyter.widget-view+json": {
       "model_id": "8001338b49c44e92ae8cb3d47c73cd4a",
       "version_major": 2,
       "version_minor": 0
      },
      "text/plain": [
       "Checkbox(value=True, description='Cache latents.', indent=False)"
      ]
     },
     "metadata": {},
     "output_type": "display_data"
    },
    {
     "data": {
      "application/vnd.jupyter.widget-view+json": {
       "model_id": "9cdb86ff0d2742288f756a98d834b076",
       "version_major": 2,
       "version_minor": 0
      },
      "text/plain": [
       "Checkbox(value=True, description='Cache latents to Drive.', indent=False)"
      ]
     },
     "metadata": {},
     "output_type": "display_data"
    },
    {
     "data": {
      "application/vnd.jupyter.widget-view+json": {
       "model_id": "bd51af3fc6944c9493eab4439a9466f6",
       "version_major": 2,
       "version_minor": 0
      },
      "text/plain": [
       "Label(value='The following option will turn off shuffle_tags and disable text encoder training.')"
      ]
     },
     "metadata": {},
     "output_type": "display_data"
    },
    {
     "data": {
      "application/vnd.jupyter.widget-view+json": {
       "model_id": "85baa8e1199242e8ac73a0e0878c1b09",
       "version_major": 2,
       "version_minor": 0
      },
      "text/plain": [
       "Checkbox(value=False, description='Cache text encoder outputs:', indent=False)"
      ]
     },
     "metadata": {},
     "output_type": "display_data"
    }
   ],
   "source": [
    "train_batch_size_widget = widgets.IntSlider(\n",
    "    value=4,\n",
    "    min=1,\n",
    "    max=16,\n",
    "    step=1,\n",
    "    description='Train batch size:',\n",
    "    disabled=False,\n",
    "    continuous_update=False,\n",
    "    orientation='horizontal',\n",
    "    readout=True,\n",
    "    readout_format='d'\n",
    ")\n",
    "\n",
    "cross_attention_widget = widgets.RadioButtons(\n",
    "    options=[\"sdpa\", \"xformers\"],\n",
    "    value=\"sdpa\",\n",
    "    description='Cross attention:',\n",
    "    disabled=False\n",
    ")\n",
    "\n",
    "mixed_precision_widget = widgets.RadioButtons(\n",
    "    options=[\"bf16\", \"fp16\"],\n",
    "    value=\"fp16\",\n",
    "    description='Mixed precision:',\n",
    "    disabled=False\n",
    ")\n",
    "\n",
    "cache_latents_widget = widgets.Checkbox(\n",
    "    value=True,\n",
    "    description='Cache latents.',\n",
    "    disabled=False,\n",
    "    indent=False\n",
    ")\n",
    "\n",
    "cache_latents_to_drive_widget = widgets.Checkbox(\n",
    "    value=True,\n",
    "    description='Cache latents to Drive.',\n",
    "    disabled=False,\n",
    "    indent=False\n",
    ")\n",
    "\n",
    "cache_text_encoder_outputs_widget = widgets.Checkbox(\n",
    "    value=False,\n",
    "    description='Cache text encoder outputs:',\n",
    "    disabled=False,\n",
    "    indent=False\n",
    ")\n",
    "\n",
    "display(\n",
    "    widgets.HTML('<h2>▶️ Training</h2>'),\n",
    "    widgets.Label('Adjust these parameters depending on your colab configuration.'),\n",
    "    widgets.Label('''If you're using the free tier you should select a diffusers model at the top of this cell.'''),\n",
    "    widgets.HTML('<hr>'),\n",
    "    widgets.Label('Higher batch size is often faster but uses more memory.'),\n",
    "    train_batch_size_widget,\n",
    "    widgets.Label('I have found no substantial difference between sdpa and xformers.'),\n",
    "    cross_attention_widget,\n",
    "    widgets.Label('''If you're on an A100 you should enable bf16.'''),\n",
    "    mixed_precision_widget,\n",
    "    widgets.Label('Caching latents to drive will add a 250KB file next to each image but will use considerably less memory.'),\n",
    "    cache_latents_widget,\n",
    "    cache_latents_to_drive_widget,\n",
    "    widgets.Label('The following option will turn off shuffle_tags and disable text encoder training.'),\n",
    "    cache_text_encoder_outputs_widget\n",
    ")"
   ]
  },
  {
   "cell_type": "code",
   "execution_count": 40,
   "metadata": {
    "cellView": "form",
    "colab": {
     "base_uri": "https://localhost:8080/",
     "height": 1000
    },
    "id": "OglZzI_ujZq-",
    "outputId": "e8af5902-6785-4d01-d6f6-9c1559e3a6c3"
   },
   "outputs": [],
   "source": [
    "train_batch_size = train_batch_size_widget.value\n",
    "cross_attention = cross_attention_widget.value\n",
    "\n",
    "mixed_precision = mixed_precision_widget.value\n",
    "\n",
    "cache_latents = cache_latents_widget.value\n",
    "cache_latents_to_drive = cache_latents_to_drive_widget.value\n",
    "\n",
    "cache_text_encoder_outputs  = cache_text_encoder_outputs_widget.value"
   ]
  },
  {
   "cell_type": "code",
   "execution_count": 55,
   "metadata": {},
   "outputs": [
    {
     "data": {
      "application/vnd.jupyter.widget-view+json": {
       "model_id": "c4687f806a08415e9aec6c9a1067e891",
       "version_major": 2,
       "version_minor": 0
      },
      "text/plain": [
       "HTML(value='<h2>▶️ Advanced</h2>')"
      ]
     },
     "metadata": {},
     "output_type": "display_data"
    },
    {
     "data": {
      "application/vnd.jupyter.widget-view+json": {
       "model_id": "ee4b15972d864395bc79959abd2ea877",
       "version_major": 2,
       "version_minor": 0
      },
      "text/plain": [
       "Label(value='The optimizer is the algorithm used for training. AdanW8Bit is the default and works great, while…"
      ]
     },
     "metadata": {},
     "output_type": "display_data"
    },
    {
     "data": {
      "application/vnd.jupyter.widget-view+json": {
       "model_id": "030a5a35e6024cb48716f4f788d34228",
       "version_major": 2,
       "version_minor": 0
      },
      "text/plain": [
       "Dropdown(description='Optimizer:', options=('AdamW8bit', 'Prodigy', 'DAdaptation', 'DadaptAdam', 'DadaptLion',…"
      ]
     },
     "metadata": {},
     "output_type": "display_data"
    },
    {
     "data": {
      "application/vnd.jupyter.widget-view+json": {
       "model_id": "01cdef7c11164844ba6792fdd79c4d7b",
       "version_major": 2,
       "version_minor": 0
      },
      "text/plain": [
       "HTML(value=\"\\n        Recommended args for:\\n        <ul>\\n            <li><b>AdamW8bit</b>: <div style='font-…"
      ]
     },
     "metadata": {},
     "output_type": "display_data"
    },
    {
     "data": {
      "application/vnd.jupyter.widget-view+json": {
       "model_id": "c3bece2c4a93469ca17f24cf4eca558a",
       "version_major": 2,
       "version_minor": 0
      },
      "text/plain": [
       "Text(value='weight_decay=0.1 betas=[0.9,0.99]', description='Optimizer args:')"
      ]
     },
     "metadata": {},
     "output_type": "display_data"
    },
    {
     "data": {
      "application/vnd.jupyter.widget-view+json": {
       "model_id": "79c8c4d2f6524e15a351246feac32c34",
       "version_major": 2,
       "version_minor": 0
      },
      "text/plain": [
       "HTML(value=\"\\n        <p> If <b>Dadapt</b> or <b>Prodigy</b> are selected and the recommended box is checked, …"
      ]
     },
     "metadata": {},
     "output_type": "display_data"
    },
    {
     "data": {
      "application/vnd.jupyter.widget-view+json": {
       "model_id": "8730d59485c64ecf93add3650658cb5f",
       "version_major": 2,
       "version_minor": 0
      },
      "text/plain": [
       "Checkbox(value=True, description='Recommended values', indent=False)"
      ]
     },
     "metadata": {},
     "output_type": "display_data"
    }
   ],
   "source": [
    "optimizer_widget = widgets.Dropdown(\n",
    "    options=[\"AdamW8bit\", \"Prodigy\", \"DAdaptation\", \"DadaptAdam\", \"DadaptLion\", \"AdamW\", \"Lion\", \"SGDNesterov\", \"SGDNesterov8bit\", \"AdaFactor\"],\n",
    "    value=\"AdamW8bit\",\n",
    "    description='Optimizer:',\n",
    "    disabled=False,\n",
    ")\n",
    "\n",
    "optimizer_args_widget = widgets.Text(\n",
    "    description=\"Optimizer args:\",\n",
    "    value=\"weight_decay=0.1 betas=[0.9,0.99]\"\n",
    ")\n",
    "\n",
    "recommended_values_widget = widgets.Checkbox(\n",
    "    value=True,\n",
    "    description='Recommended values',\n",
    "    disabled=False,\n",
    "    indent=False\n",
    ")\n",
    "\n",
    "display(\n",
    "    widgets.HTML('<h2>▶️ Advanced</h2>'),\n",
    "    widgets.Label('The optimizer is the algorithm used for training. AdanW8Bit is the default and works great, while Prodigy manages learning rate automatically and may have several advantages such as training faster due to needing less steps as well as working better for small datasets.'),\n",
    "    optimizer_widget,\n",
    "    widgets.HTML('''\n",
    "        Recommended args for:\n",
    "        <ul>\n",
    "            <li><b>AdamW8bit</b>: <div style='font-family: monospace;'>weight_decay=0.1 betas=[0.9,0.99]</div></li>\n",
    "            <li><b>Prodigy</b>: <div style='font-family: monospace;'>decouple=True weight_decay=0.01 betas=[0.9,0.999] d_coef=2 use_bias_correction=True safeguard_warmup=True</div></li>\n",
    "            <li><b>CAME</b>: <div style='font-family: monospace;'>weight_decay=0.04</div></li>\n",
    "        </ul>\n",
    "    '''),\n",
    "    optimizer_args_widget,\n",
    "    widgets.HTML('''\n",
    "        <p> If <b>Dadapt</b> or <b>Prodigy</b> are selected and the recommended box is checked, the following recommended values will override any previous settings:\n",
    "        <div style='font-family: monospace;'>unet_lr=0.75, text_encoder_lr=0.75, network_alpha=network_dim</div></p>\n",
    "        <p> If <b>CAME + REX</b> is selected and the recommended box is checked, the following recommended values will override any previous settings:\n",
    "        <div style='font-family: monospace;'>unet_lr=1e-4, text_encoder_lr=1e-6, betas=default_came_betas</div></p>\n",
    "    '''),\n",
    "    recommended_values_widget\n",
    ")    "
   ]
  },
  {
   "cell_type": "code",
   "execution_count": 57,
   "metadata": {
    "cellView": "form",
    "colab": {
     "base_uri": "https://localhost:8080/",
     "height": 1000
    },
    "id": "OglZzI_ujZq-",
    "outputId": "e8af5902-6785-4d01-d6f6-9c1559e3a6c3"
   },
   "outputs": [],
   "source": [
    "optimizer = optimizer_widget.value\n",
    "\n",
    "optimizer_args = optimizer_args_widget.value\n",
    "optimizer_args = [a.strip() for a in optimizer_args.split(' ') if a]\n",
    "\n",
    "recommended_values = recommended_values_widget.value\n",
    "\n",
    "if any(opt in optimizer.lower() for opt in [\"dadapt\", \"prodigy\"]):\n",
    "  if recommended_values:\n",
    "    unet_lr = 0.75\n",
    "    text_encoder_lr = 0.75\n",
    "    network_alpha = network_dim\n",
    "elif \"CAME\" in optimizer:\n",
    "  optimizer = \"CAME\"\n",
    "  lr_scheduler = \"REX\"\n",
    "  if recommended_values:\n",
    "    unet_lr = 1e-4\n",
    "    text_encoder_lr = 1e-6\n",
    "    for i in range(len(optimizer_args)):\n",
    "      if \"betas\" in optimizer_args[i]:\n",
    "        optimizer_args.pop(i)\n",
    "        break\n",
    "\n",
    "lr_scheduler_num_cycles = lr_scheduler_number if lr_scheduler == \"cosine_with_restarts\" else 0\n",
    "lr_scheduler_power = lr_scheduler_number if lr_scheduler == \"polynomial\" else 0\n",
    "\n",
    " "
   ]
  },
  {
   "cell_type": "markdown",
   "metadata": {
    "cellView": "form",
    "colab": {
     "base_uri": "https://localhost:8080/",
     "height": 1000
    },
    "id": "OglZzI_ujZq-",
    "outputId": "e8af5902-6785-4d01-d6f6-9c1559e3a6c3"
   },
   "source": [
    "### ▶️ Ready\n",
    "You can now run this cell to cook your Lora. Good luck!"
   ]
  },
  {
   "cell_type": "code",
   "execution_count": null,
   "metadata": {
    "cellView": "form",
    "colab": {
     "base_uri": "https://localhost:8080/",
     "height": 1000
    },
    "id": "OglZzI_ujZq-",
    "outputId": "e8af5902-6785-4d01-d6f6-9c1559e3a6c3"
   },
   "outputs": [],
   "source": [
    "# 👩‍💻 Cool code goes here\n",
    "\n",
    "root_dir = \"/content\" if COLAB else \"~/Loras\"\n",
    "deps_dir = os.path.join(root_dir, \"deps\")\n",
    "repo_dir = os.path.join(root_dir, \"kohya-trainer\")\n",
    "\n",
    "if \"/Loras\" in folder_structure:\n",
    "  main_dir      = os.path.join(root_dir, \"drive/MyDrive/Loras\") if COLAB else root_dir\n",
    "  log_folder    = os.path.join(main_dir, \"_logs\")\n",
    "  config_folder = os.path.join(main_dir, project_name)\n",
    "  images_folder = os.path.join(main_dir, project_name, \"dataset\")\n",
    "  output_folder = os.path.join(main_dir, project_name, \"output\")\n",
    "else:\n",
    "  main_dir      = os.path.join(root_dir, \"drive/MyDrive/lora_training\") if COLAB else root_dir\n",
    "  images_folder = os.path.join(main_dir, \"datasets\", project_name)\n",
    "  output_folder = os.path.join(main_dir, \"output\", project_name)\n",
    "  config_folder = os.path.join(main_dir, \"config\", project_name)\n",
    "  log_folder    = os.path.join(main_dir, \"log\")\n",
    "\n",
    "config_file = os.path.join(config_folder, \"training_config.toml\")\n",
    "dataset_config_file = os.path.join(config_folder, \"dataset_config.toml\")\n",
    "accelerate_config_file = os.path.join(repo_dir, \"accelerate_config/config.yaml\")\n",
    "\n",
    "def install_dependencies():\n",
    "  os.chdir(root_dir)\n",
    "  !git clone {SOURCE} {repo_dir}\n",
    "  os.chdir(repo_dir)\n",
    "  if COMMIT:\n",
    "    !git reset --hard {COMMIT}\n",
    "  !wget https://raw.githubusercontent.com/hollowstrawberry/kohya-colab/main/train_network_xl_wrapper.py -q -O train_network_xl_wrapper.py\n",
    "  !wget https://raw.githubusercontent.com/hollowstrawberry/kohya-colab/main/dracula.py -q -O dracula.py\n",
    "\n",
    "  !apt -y update -qq\n",
    "  !apt -y install aria2 -qq\n",
    "  !pip install torch==2.3.0+cu121 accelerate==0.19.0 transformers==4.30.2 diffusers==0.18.2 bitsandbytes==0.40.0.post4 opencv-python==4.7.0.68 jax==0.4.23 jaxlib==0.4.23\n",
    "  !pip install pytorch-lightning==1.9.0 voluptuous==0.13.1 toml==0.10.2 ftfy==6.1.1 einops==0.6.0 safetensors pygments\n",
    "  !pip install huggingface-hub==0.23.1 invisible-watermark==0.2.0 open-clip-torch==2.20.0 dadaptation==3.1 prodigyopt==1.0 lion-pytorch==0.1.2 wandb\n",
    "  !pip install -e .\n",
    "  if cross_attention == \"xformers\":\n",
    "    !pip install -q xformers==0.0.26.dev778\n",
    "  if \"CAME\" in optimizer:\n",
    "    !pip install came-pytorch\n",
    "    !wget https://raw.githubusercontent.com/hollowstrawberry/kohya-colab/main/train_util.py -q -O library/train_util.py\n",
    "\n",
    "  # patch kohya for minor stuff\n",
    "  if LOWRAM:\n",
    "    !sed -i \"s@cpu@cuda@\" library/model_util.py\n",
    "  if LOAD_TRUNCATED_IMAGES:\n",
    "    !sed -i 's/from PIL import Image/from PIL import Image, ImageFile\\nImageFile.LOAD_TRUNCATED_IMAGES=True/g' library/train_util.py # fix truncated jpegs error\n",
    "  if BETTER_EPOCH_NAMES:\n",
    "    !sed -i 's/{:06d}/{:02d}/g' library/train_util.py # make epoch names shorter\n",
    "    !sed -i 's/\".\" + args.save_model_as)/\"-{:02d}.\".format(num_train_epochs) + args.save_model_as)/g' train_network.py # name of the last epoch will match the rest\n",
    "\n",
    "  from accelerate.utils import write_basic_config\n",
    "  if not os.path.exists(accelerate_config_file):\n",
    "    write_basic_config(save_location=accelerate_config_file)\n",
    "\n",
    "  os.environ[\"TF_CPP_MIN_LOG_LEVEL\"] = \"3\"\n",
    "  os.environ[\"BITSANDBYTES_NOWELCOME\"] = \"1\"\n",
    "  os.environ[\"SAFETENSORS_FAST_GPU\"] = \"1\"\n",
    "\n",
    "def validate_dataset():\n",
    "  global lr_warmup_steps, lr_warmup_ratio, caption_extension, keep_tokens\n",
    "  supported_types = (\".png\", \".jpg\", \".jpeg\", \".webp\", \".bmp\")\n",
    "\n",
    "  print(\"\\n💿 Checking dataset...\")\n",
    "  if not project_name.strip() or any(c in project_name for c in \" .()\\\"'\\\\/\"):\n",
    "    print(\"💥 Error: Please choose a valid project name.\")\n",
    "    return\n",
    "\n",
    "  if custom_dataset:\n",
    "    try:\n",
    "      datconf = toml.loads(custom_dataset)\n",
    "      datasets = [d for d in datconf[\"datasets\"][0][\"subsets\"]]\n",
    "    except:\n",
    "      print(f\"💥 Error: Your custom dataset is invalid or contains an error! Please check the original template.\")\n",
    "      return\n",
    "    reg = [d.get(\"image_dir\") for d in datasets if d.get(\"is_reg\", False)]\n",
    "    datasets_dict = {d[\"image_dir\"]: d[\"num_repeats\"] for d in datasets}\n",
    "    folders = datasets_dict.keys()\n",
    "    files = [f for folder in folders for f in os.listdir(folder)]\n",
    "    images_repeats = {folder: (len([f for f in os.listdir(folder) if f.lower().endswith(supported_types)]), datasets_dict[folder]) for folder in folders}\n",
    "  else:\n",
    "    reg = []\n",
    "    folders = [images_folder]\n",
    "    files = os.listdir(images_folder)\n",
    "    images_repeats = {images_folder: (len([f for f in files if f.lower().endswith(supported_types)]), num_repeats)}\n",
    "\n",
    "  for folder in folders:\n",
    "    if not os.path.exists(folder):\n",
    "      print(f\"💥 Error: The folder {folder.replace('/content/drive/', '')} doesn't exist.\")\n",
    "      return\n",
    "  for folder, (img, rep) in images_repeats.items():\n",
    "    if not img:\n",
    "      print(f\"💥 Error: Your {folder.replace('/content/drive/', '')} folder is empty.\")\n",
    "      return\n",
    "  for f in files:\n",
    "    if not f.lower().endswith((\".txt\", \".npz\")) and not f.lower().endswith(supported_types):\n",
    "      print(f\"💥 Error: Invalid file in dataset: \\\"{f}\\\". Aborting.\")\n",
    "      return\n",
    "\n",
    "  if not [txt for txt in files if txt.lower().endswith(\".txt\")]:\n",
    "    caption_extension = \"\"\n",
    "\n",
    "  pre_steps_per_epoch = sum(img*rep for (img, rep) in images_repeats.values())\n",
    "  steps_per_epoch = pre_steps_per_epoch/train_batch_size\n",
    "  total_steps = max_train_steps or int(max_train_epochs*steps_per_epoch)\n",
    "  estimated_epochs = int(total_steps/steps_per_epoch)\n",
    "  lr_warmup_steps = int(total_steps*lr_warmup_ratio)\n",
    "\n",
    "  for folder, (img, rep) in images_repeats.items():\n",
    "    print(\"📁\"+folder.replace(\"/content/drive/\", \"\") + (\" (Regularization)\" if folder in reg else \"\"))\n",
    "    print(f\"📈 Found {img} images with {rep} repeats, equaling {img*rep} steps.\")\n",
    "  print(f\"📉 Divide {pre_steps_per_epoch} steps by {train_batch_size} batch size to get {steps_per_epoch} steps per epoch.\")\n",
    "  if max_train_epochs:\n",
    "    print(f\"🔮 There will be {max_train_epochs} epochs, for around {total_steps} total training steps.\")\n",
    "  else:\n",
    "    print(f\"🔮 There will be {total_steps} steps, divided into {estimated_epochs} epochs and then some.\")\n",
    "\n",
    "  if total_steps > 10000:\n",
    "    print(\"💥 Error: Your total steps are too high. You probably made a mistake. Aborting...\")\n",
    "    return\n",
    "\n",
    "  return True\n",
    "\n",
    "def create_config():\n",
    "  global dataset_config_file, config_file, model_file\n",
    "\n",
    "  if override_config_file:\n",
    "    config_file = override_config_file\n",
    "    print(f\"\\n⭕ Using custom config file {config_file}\")\n",
    "  else:\n",
    "    config_dict = {\n",
    "      \"network_arguments\": {\n",
    "        \"unet_lr\": unet_lr,\n",
    "        \"text_encoder_lr\": text_encoder_lr if not cache_text_encoder_outputs else 0,\n",
    "        \"network_dim\": network_dim,\n",
    "        \"network_alpha\": network_alpha,\n",
    "        \"network_module\": network_module,\n",
    "        \"network_args\": network_args,\n",
    "        \"network_train_unet_only\": text_encoder_lr == 0 or cache_text_encoder_outputs,\n",
    "      },\n",
    "      \"optimizer_arguments\": {\n",
    "        \"learning_rate\": unet_lr,\n",
    "        \"lr_scheduler\": lr_scheduler,\n",
    "        \"lr_scheduler_num_cycles\": lr_scheduler_num_cycles if lr_scheduler == \"cosine_with_restarts\" else None,\n",
    "        \"lr_scheduler_power\": lr_scheduler_power if lr_scheduler == \"polynomial\" else None,\n",
    "        \"lr_warmup_steps\": lr_warmup_steps if lr_scheduler != \"constant\" else None,\n",
    "        \"optimizer_type\": optimizer,\n",
    "        \"optimizer_args\": optimizer_args if optimizer_args else None,\n",
    "      },\n",
    "      \"training_arguments\": {\n",
    "        \"pretrained_model_name_or_path\": model_file,\n",
    "        \"vae\": vae_file,\n",
    "        \"max_train_steps\": max_train_steps,\n",
    "        \"max_train_epochs\": max_train_epochs,\n",
    "        \"train_batch_size\": train_batch_size,\n",
    "        \"seed\": 42,\n",
    "        \"max_token_length\": 225,\n",
    "        \"xformers\": cross_attention == \"xformers\",\n",
    "        \"sdpa\": cross_attention == \"sdpa\",\n",
    "        \"min_snr_gamma\": min_snr_gamma if min_snr_gamma > 0 else None,\n",
    "        \"lowram\": LOWRAM,\n",
    "        \"no_half_vae\": True,\n",
    "        \"gradient_checkpointing\": True,\n",
    "        \"gradient_accumulation_steps\": 1,\n",
    "        \"max_data_loader_n_workers\": 8,\n",
    "        \"persistent_data_loader_workers\": True,\n",
    "        \"mixed_precision\": mixed_precision,\n",
    "        \"full_bf16\": mixed_precision == \"bf16\",\n",
    "        \"cache_latents\": cache_latents,\n",
    "        \"cache_latents_to_disk\": cache_latents_to_drive,\n",
    "        \"cache_text_encoder_outputs\": cache_text_encoder_outputs,\n",
    "        \"min_timestep\": 0,\n",
    "        \"max_timestep\": 1000,\n",
    "        \"prior_loss_weight\": 1.0,\n",
    "        \"multires_noise_iterations\": 6 if multinoise else None,\n",
    "        \"multires_noise_discount\": 0.3 if multinoise else None,\n",
    "      },\n",
    "      \"saving_arguments\": {\n",
    "        \"save_precision\": \"fp16\",\n",
    "        \"save_model_as\": \"safetensors\",\n",
    "        \"save_every_n_epochs\": save_every_n_epochs,\n",
    "        \"save_last_n_epochs\": keep_only_last_n_epochs,\n",
    "        \"output_name\": project_name,\n",
    "        \"output_dir\": output_folder,\n",
    "        \"log_prefix\": project_name,\n",
    "        \"logging_dir\": log_folder,\n",
    "        \"wandb_api_key\": wandb_key if wandb_key else None,\n",
    "        \"log_with\": \"wandb\" if wandb_key else None,\n",
    "      }\n",
    "    }\n",
    "\n",
    "    for key in config_dict:\n",
    "      if isinstance(config_dict[key], dict):\n",
    "        config_dict[key] = {k: v for k, v in config_dict[key].items() if v is not None}\n",
    "\n",
    "    with open(config_file, \"w\") as f:\n",
    "      f.write(toml.dumps(config_dict))\n",
    "    print(f\"\\n📄 Config saved to {config_file}\")\n",
    "\n",
    "  if override_dataset_config_file:\n",
    "    dataset_config_file = override_dataset_config_file\n",
    "    print(f\"⭕ Using custom dataset config file {dataset_config_file}\")\n",
    "  else:\n",
    "    dataset_config_dict = {\n",
    "      \"general\": {\n",
    "        \"resolution\": resolution,\n",
    "        \"shuffle_caption\": shuffle_caption and not cache_text_encoder_outputs,\n",
    "        \"keep_tokens\": keep_tokens,\n",
    "        \"flip_aug\": False,\n",
    "        \"caption_extension\": caption_extension,\n",
    "        \"enable_bucket\": True,\n",
    "        \"bucket_no_upscale\": False,\n",
    "        \"bucket_reso_steps\": 64,\n",
    "        \"min_bucket_reso\": 256,\n",
    "        \"max_bucket_reso\": 4096,\n",
    "      },\n",
    "      \"datasets\": toml.loads(custom_dataset)[\"datasets\"] if custom_dataset else [\n",
    "        {\n",
    "          \"subsets\": [\n",
    "            {\n",
    "              \"num_repeats\": num_repeats,\n",
    "              \"image_dir\": images_folder,\n",
    "              \"class_tokens\": None if caption_extension else project_name\n",
    "            }\n",
    "          ]\n",
    "        }\n",
    "      ]\n",
    "    }\n",
    "\n",
    "    for key in dataset_config_dict:\n",
    "      if isinstance(dataset_config_dict[key], dict):\n",
    "        dataset_config_dict[key] = {k: v for k, v in dataset_config_dict[key].items() if v is not None}\n",
    "\n",
    "    with open(dataset_config_file, \"w\") as f:\n",
    "      f.write(toml.dumps(dataset_config_dict))\n",
    "    print(f\"📄 Dataset config saved to {dataset_config_file}\")\n",
    "\n",
    "def download_model():\n",
    "  global old_model_url, model_url, model_file, vae_url, vae_file\n",
    "  real_model_url = model_url.strip()\n",
    "\n",
    "  if load_diffusers:\n",
    "    if 'huggingface.co' in real_model_url:\n",
    "        match = re.search(r'huggingface\\.co/([^/]+)/([^/]+)', real_model_url)\n",
    "        if match:\n",
    "            username = match.group(1)\n",
    "            model_name = match.group(2)\n",
    "            model_file = f\"{username}/{model_name}\"\n",
    "            fs = HfFileSystem()\n",
    "            existing_folders = set(fs.ls(model_file, detail=False))\n",
    "            necessary_folders = [ \"scheduler\", \"text_encoder\", \"text_encoder_2\", \"tokenizer\", \"tokenizer_2\", \"unet\", \"vae\" ]\n",
    "            if all(f\"{model_file}/{folder}\" in existing_folders for folder in necessary_folders):\n",
    "              print(\"🍃 Diffusers model identified.\")\n",
    "              return True\n",
    "    print(\"🍃 Failed to load Diffusers model.\")\n",
    "\n",
    "  if not model_file:\n",
    "    if real_model_url.lower().endswith((\".ckpt\", \".safetensors\")):\n",
    "      model_file = f\"/content{real_model_url[real_model_url.rfind('/'):]}\"\n",
    "    else:\n",
    "      model_file = \"/content/downloaded_model.safetensors\"\n",
    "      if os.path.exists(model_file):\n",
    "        !rm \"{model_file}\"\n",
    "\n",
    "  if m := re.search(r\"(?:https?://)?(?:www\\.)?huggingface\\.co/[^/]+/[^/]+/blob\", model_url):\n",
    "    real_model_url = real_model_url.replace(\"blob\", \"resolve\")\n",
    "  elif m := re.search(r\"(?:https?://)?(?:www\\\\.)?civitai\\.com/models/([0-9]+)(/[A-Za-z0-9-_]+)?\", model_url):\n",
    "    if m.group(2):\n",
    "      model_file = f\"/content{m.group(2)}.safetensors\"\n",
    "    if m := re.search(r\"modelVersionId=([0-9]+)\", model_url):\n",
    "      real_model_url = f\"https://civitai.com/api/download/models/{m.group(1)}\"\n",
    "    else:\n",
    "      raise ValueError(\"optional_custom_training_model_url contains a civitai link, but the link doesn't include a modelVersionId. You can also right click the download button to copy the direct download link.\")\n",
    "\n",
    "  !aria2c \"{real_model_url}\" --console-log-level=warn -c -s 16 -x 16 -k 10M -d / -o \"{model_file}\"\n",
    "\n",
    "  if not os.path.exists(vae_file):\n",
    "    !aria2c \"{vae_url}\" --console-log-level=warn -c -s 16 -x 16 -k 10M -d / -o \"{vae_file}\"\n",
    "\n",
    "  if model_file.lower().endswith(\".safetensors\"):\n",
    "    from safetensors.torch import load_file as load_safetensors\n",
    "    try:\n",
    "      test = load_safetensors(model_file)\n",
    "      del test\n",
    "    except:\n",
    "      #if \"HeaderTooLarge\" in str(e):\n",
    "      new_model_file = os.path.splitext(model_file)[0]+\".ckpt\"\n",
    "      !mv \"{model_file}\" \"{new_model_file}\"\n",
    "      model_file = new_model_file\n",
    "      print(f\"Renamed model to {os.path.splitext(model_file)[0]}.ckpt\")\n",
    "\n",
    "  if model_file.lower().endswith(\".ckpt\"):\n",
    "    from torch import load as load_ckpt\n",
    "    try:\n",
    "      test = load_ckpt(model_file)\n",
    "      del test\n",
    "    except:\n",
    "      return False\n",
    "\n",
    "  return True\n",
    "\n",
    "def main():\n",
    "  global dependencies_installed\n",
    "\n",
    "  if COLAB and not os.path.exists('/content/drive'):\n",
    "    from google.colab import drive\n",
    "    print(\"📂 Connecting to Google Drive...\")\n",
    "    drive.mount('/content/drive')\n",
    "\n",
    "  for dir in (main_dir, deps_dir, repo_dir, log_folder, images_folder, output_folder, config_folder):\n",
    "    os.makedirs(dir, exist_ok=True)\n",
    "\n",
    "  if not validate_dataset():\n",
    "    return\n",
    "\n",
    "  if not dependencies_installed:\n",
    "    print(\"\\n🏭 Installing dependencies...\\n\")\n",
    "    t0 = time()\n",
    "    install_dependencies()\n",
    "    t1 = time()\n",
    "    dependencies_installed = True\n",
    "    print(f\"\\n✅ Installation finished in {int(t1-t0)} seconds.\")\n",
    "  else:\n",
    "    print(\"\\n✅ Dependencies already installed.\")\n",
    "\n",
    "  if old_model_url != model_url or not model_file or not os.path.exists(model_file):\n",
    "    print(\"\\n🔄 Downloading model...\")\n",
    "    if not download_model():\n",
    "      print(\"\\n💥 Error: The model you selected is invalid or corrupted, or couldn't be downloaded. You can use a civitai or huggingface link, or any direct download link.\")\n",
    "      return\n",
    "    print()\n",
    "  else:\n",
    "    print(\"\\n🔄 Model already downloaded.\\n\")\n",
    "\n",
    "  create_config()\n",
    "\n",
    "  print(\"\\n⭐ Starting trainer...\\n\")\n",
    "  os.chdir(repo_dir)\n",
    "\n",
    "  !accelerate launch --quiet --config_file={accelerate_config_file} --num_cpu_threads_per_process=1 train_network_xl_wrapper.py --dataset_config={dataset_config_file} --config_file={config_file}\n",
    "\n",
    "  if not get_ipython().__dict__['user_ns']['_exit_code']:\n",
    "    display(Markdown(\"### ✅ Done! [Go download your Lora from Google Drive](https://drive.google.com/drive/my-drive)\\n\"\n",
    "                     \"### There will be several files, you should try the latest version (the file with the largest number next to it)\"))\n",
    "\n",
    "main()"
   ]
  },
  {
   "cell_type": "markdown",
   "metadata": {
    "id": "mBMUJ7BuvNcn"
   },
   "source": [
    "## *️⃣ Extras\n",
    "\n",
    "You can run these before starting the training."
   ]
  },
  {
   "cell_type": "markdown",
   "metadata": {
    "id": "Wd4916Eu1tb9"
   },
   "source": [
    "### 📚 Multiple folders in dataset\n",
    "Below is a template allowing you to define multiple folders in your dataset. You must include the location of each folder and you can set different number of repeats for each one. To add more folders simply copy and paste the sections starting with `[[datasets.subsets]]`.\n",
    "\n",
    "When enabling this, the number of repeats set in the main cell will be ignored, and the main folder set by the project name will also be ignored.\n",
    "\n",
    "You can make one of them a regularization folder by adding `is_reg = true`  \n",
    "You can also set different `keep_tokens`, `flip_aug`, etc."
   ]
  },
  {
   "cell_type": "code",
   "execution_count": 1,
   "metadata": {
    "executionInfo": {
     "elapsed": 804,
     "status": "ok",
     "timestamp": 1708481414906,
     "user": {
      "displayName": "Samuel",
      "userId": "11002898838993959229"
     },
     "user_tz": 180
    },
    "id": "Y037lagnJWmn"
   },
   "outputs": [],
   "source": [
    "custom_dataset = \"\"\"\n",
    "[[datasets]]\n",
    "\n",
    "[[datasets.subsets]]\n",
    "image_dir = \"/content/drive/MyDrive/Loras/example/dataset/good_images\"\n",
    "num_repeats = 3\n",
    "\n",
    "[[datasets.subsets]]\n",
    "image_dir = \"/content/drive/MyDrive/Loras/example/dataset/normal_images\"\n",
    "num_repeats = 1\n",
    "\n",
    "\"\"\""
   ]
  },
  {
   "cell_type": "code",
   "execution_count": null,
   "metadata": {
    "id": "W84Jxf-U2TIU"
   },
   "outputs": [],
   "source": [
    "custom_dataset = None"
   ]
  },
  {
   "cell_type": "code",
   "execution_count": null,
   "metadata": {
    "cellView": "form",
    "id": "WDjkp4scvPgE"
   },
   "outputs": [],
   "source": [
    "#@markdown ### 📂 Unzip dataset\n",
    "#@markdown It's much slower to upload individual files to your Drive, so you may want to upload a zip if you have your dataset in your computer.\n",
    "zip = \"/content/drive/MyDrive/my_dataset.zip\" #@param {type:\"string\"}\n",
    "extract_to = \"/content/drive/MyDrive/Loras/example/dataset\" #@param {type:\"string\"}\n",
    "\n",
    "import os, zipfile\n",
    "\n",
    "if not os.path.exists('/content/drive'):\n",
    "  from google.colab import drive\n",
    "  print(\"📂 Connecting to Google Drive...\")\n",
    "  drive.mount('/content/drive')\n",
    "\n",
    "os.makedirs(extract_to, exist_ok=True)\n",
    "\n",
    "with zipfile.ZipFile(zip, 'r') as f:\n",
    "  f.extractall(extract_to)\n",
    "\n",
    "print(\"✅ Done\")\n"
   ]
  },
  {
   "cell_type": "code",
   "execution_count": null,
   "metadata": {
    "cellView": "form",
    "id": "aKWlpsG0jrX3"
   },
   "outputs": [],
   "source": [
    "#@markdown ### 🔢 Count datasets\n",
    "#@markdown Google Drive makes it impossible to count the files in a folder, so this will show you the file counts in all folders and subfolders.\n",
    "folder = \"/content/drive/MyDrive/Loras\" #@param {type:\"string\"}\n",
    "\n",
    "import os\n",
    "from google.colab import drive\n",
    "\n",
    "if not os.path.exists('/content/drive'):\n",
    "    print(\"📂 Connecting to Google Drive...\\n\")\n",
    "    drive.mount('/content/drive')\n",
    "\n",
    "tree = {}\n",
    "exclude = (\"_logs\", \"/output\")\n",
    "for i, (root, dirs, files) in enumerate(os.walk(folder, topdown=True)):\n",
    "  dirs[:] = [d for d in dirs if all(ex not in d for ex in exclude)]\n",
    "  images = len([f for f in files if f.lower().endswith((\".png\", \".jpg\", \".jpeg\"))])\n",
    "  captions = len([f for f in files if f.lower().endswith(\".txt\")])\n",
    "  others = len(files) - images - captions\n",
    "  path = root[folder.rfind(\"/\")+1:]\n",
    "  tree[path] = None if not images else f\"{images:>4} images | {captions:>4} captions |\"\n",
    "  if tree[path] and others:\n",
    "    tree[path] += f\" {others:>4} other files\"\n",
    "\n",
    "pad = max(len(k) for k in tree)\n",
    "print(\"\\n\".join(f\"📁{k.ljust(pad)} | {v}\" for k, v in tree.items() if v))\n"
   ]
  },
  {
   "cell_type": "markdown",
   "metadata": {
    "id": "YcTjh07x90Ro"
   },
   "source": [
    "# 📈 Plot training results\n",
    "You can do this after running the trainer. You don't need this unless you know what you're doing.  \n",
    "The first cell below may fail to load all your logs. Keep trying the second cell until all data has loaded."
   ]
  },
  {
   "cell_type": "code",
   "execution_count": null,
   "metadata": {
    "id": "Z_TRI3eX90Rp"
   },
   "outputs": [],
   "source": [
    "%load_ext tensorboard\n",
    "%tensorboard --logdir={log_folder}/"
   ]
  },
  {
   "cell_type": "code",
   "execution_count": null,
   "metadata": {
    "id": "6rM5SLq990Rp"
   },
   "outputs": [],
   "source": [
    "from tensorboard import notebook\n",
    "notebook.display(port=6006, height=800)"
   ]
  }
 ],
 "metadata": {
  "accelerator": "GPU",
  "colab": {
   "gpuType": "A100",
   "machine_shape": "hm",
   "provenance": []
  },
  "kernelspec": {
   "display_name": "Python 3 (ipykernel)",
   "language": "python",
   "name": "python3"
  },
  "language_info": {
   "codemirror_mode": {
    "name": "ipython",
    "version": 3
   },
   "file_extension": ".py",
   "mimetype": "text/x-python",
   "name": "python",
   "nbconvert_exporter": "python",
   "pygments_lexer": "ipython3",
   "version": "3.10.14"
  }
 },
 "nbformat": 4,
 "nbformat_minor": 4
}
